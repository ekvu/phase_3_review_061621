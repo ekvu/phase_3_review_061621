{
 "cells": [
  {
   "cell_type": "markdown",
   "metadata": {},
   "source": [
    "# Phase 3 Review"
   ]
  },
  {
   "cell_type": "markdown",
   "metadata": {},
   "source": [
    "![review guy](https://media.giphy.com/media/3krrjoL0vHRaWqwU3k/giphy.gif)"
   ]
  },
  {
   "cell_type": "markdown",
   "metadata": {},
   "source": [
    "# TOC \n",
    "\n",
    "1. [Gradient Descent](#grad_desc)\n",
    "2. [Logistic Regression](#logistic)\n",
    "3. [Confusion Matrix](#con_mat)\n",
    "4. [Accuracy/Precision/Recall/F1](#more_metric)\n",
    "5. [auc_roc](#auc_roc)\n",
    "3. [Algos](#algos)"
   ]
  },
  {
   "cell_type": "markdown",
   "metadata": {},
   "source": [
    "<a id='grad_desc'></a>"
   ]
  },
  {
   "cell_type": "markdown",
   "metadata": {},
   "source": [
    "## Gradient Descent"
   ]
  },
  {
   "cell_type": "markdown",
   "metadata": {},
   "source": [
    "### Question: What is a loss function? (Explain it in terms of the relationship between true and predicted values) \n"
   ]
  },
  {
   "cell_type": "markdown",
   "metadata": {},
   "source": [
    "#### your explanation here\n",
    "loss function is the difference between the true and predicted values\n",
    "- measures overall how our predictors are vs the true value"
   ]
  },
  {
   "cell_type": "markdown",
   "metadata": {},
   "source": [
    "### Question: What loss functions do we know and what types of data work best with each?"
   ]
  },
  {
   "cell_type": "markdown",
   "metadata": {},
   "source": [
    "#### your explanation here\n",
    "- mean squared error - linear regression/ continuous variables\n",
    "- log loss - logistic regression/ categorical binary"
   ]
  },
  {
   "cell_type": "markdown",
   "metadata": {},
   "source": [
    "To solidify our knowledge of gradient descent, we will use Sklearn's stochastic gradient descent algorithm for regression [SGDRegressor](https://scikit-learn.org/stable/modules/sgd.html#regression).   Sklearn classifiers share many methods and parameters, such as fit/predict, but some have useful additions.  SGDRegressor has a new method called partial_fit, which will allow us to inspect the calculated coefficients after each step of gradient descent.  "
   ]
  },
  {
   "cell_type": "markdown",
   "metadata": {},
   "source": [
    "We will use the diabetes dataset for this task.  "
   ]
  },
  {
   "cell_type": "code",
   "execution_count": 42,
   "metadata": {},
   "outputs": [],
   "source": [
    "from sklearn.datasets import load_diabetes\n",
    "import numpy as np\n",
    "import pandas as pd\n",
    "\n",
    "data = load_diabetes(as_frame=True)\n",
    "X = data['data']\n",
    "y = data['target']"
   ]
  },
  {
   "cell_type": "code",
   "execution_count": 43,
   "metadata": {},
   "outputs": [
    {
     "data": {
      "text/plain": [
       "(442, 10)"
      ]
     },
     "execution_count": 43,
     "metadata": {},
     "output_type": "execute_result"
    }
   ],
   "source": [
    "X.shape"
   ]
  },
  {
   "cell_type": "code",
   "execution_count": 44,
   "metadata": {},
   "outputs": [
    {
     "data": {
      "text/html": [
       "<div>\n",
       "<style scoped>\n",
       "    .dataframe tbody tr th:only-of-type {\n",
       "        vertical-align: middle;\n",
       "    }\n",
       "\n",
       "    .dataframe tbody tr th {\n",
       "        vertical-align: top;\n",
       "    }\n",
       "\n",
       "    .dataframe thead th {\n",
       "        text-align: right;\n",
       "    }\n",
       "</style>\n",
       "<table border=\"1\" class=\"dataframe\">\n",
       "  <thead>\n",
       "    <tr style=\"text-align: right;\">\n",
       "      <th></th>\n",
       "      <th>age</th>\n",
       "      <th>sex</th>\n",
       "      <th>bmi</th>\n",
       "      <th>bp</th>\n",
       "      <th>s1</th>\n",
       "      <th>s2</th>\n",
       "      <th>s3</th>\n",
       "      <th>s4</th>\n",
       "      <th>s5</th>\n",
       "      <th>s6</th>\n",
       "    </tr>\n",
       "  </thead>\n",
       "  <tbody>\n",
       "    <tr>\n",
       "      <th>0</th>\n",
       "      <td>0.038076</td>\n",
       "      <td>0.050680</td>\n",
       "      <td>0.061696</td>\n",
       "      <td>0.021872</td>\n",
       "      <td>-0.044223</td>\n",
       "      <td>-0.034821</td>\n",
       "      <td>-0.043401</td>\n",
       "      <td>-0.002592</td>\n",
       "      <td>0.019908</td>\n",
       "      <td>-0.017646</td>\n",
       "    </tr>\n",
       "    <tr>\n",
       "      <th>1</th>\n",
       "      <td>-0.001882</td>\n",
       "      <td>-0.044642</td>\n",
       "      <td>-0.051474</td>\n",
       "      <td>-0.026328</td>\n",
       "      <td>-0.008449</td>\n",
       "      <td>-0.019163</td>\n",
       "      <td>0.074412</td>\n",
       "      <td>-0.039493</td>\n",
       "      <td>-0.068330</td>\n",
       "      <td>-0.092204</td>\n",
       "    </tr>\n",
       "    <tr>\n",
       "      <th>2</th>\n",
       "      <td>0.085299</td>\n",
       "      <td>0.050680</td>\n",
       "      <td>0.044451</td>\n",
       "      <td>-0.005671</td>\n",
       "      <td>-0.045599</td>\n",
       "      <td>-0.034194</td>\n",
       "      <td>-0.032356</td>\n",
       "      <td>-0.002592</td>\n",
       "      <td>0.002864</td>\n",
       "      <td>-0.025930</td>\n",
       "    </tr>\n",
       "    <tr>\n",
       "      <th>3</th>\n",
       "      <td>-0.089063</td>\n",
       "      <td>-0.044642</td>\n",
       "      <td>-0.011595</td>\n",
       "      <td>-0.036656</td>\n",
       "      <td>0.012191</td>\n",
       "      <td>0.024991</td>\n",
       "      <td>-0.036038</td>\n",
       "      <td>0.034309</td>\n",
       "      <td>0.022692</td>\n",
       "      <td>-0.009362</td>\n",
       "    </tr>\n",
       "    <tr>\n",
       "      <th>4</th>\n",
       "      <td>0.005383</td>\n",
       "      <td>-0.044642</td>\n",
       "      <td>-0.036385</td>\n",
       "      <td>0.021872</td>\n",
       "      <td>0.003935</td>\n",
       "      <td>0.015596</td>\n",
       "      <td>0.008142</td>\n",
       "      <td>-0.002592</td>\n",
       "      <td>-0.031991</td>\n",
       "      <td>-0.046641</td>\n",
       "    </tr>\n",
       "  </tbody>\n",
       "</table>\n",
       "</div>"
      ],
      "text/plain": [
       "        age       sex       bmi        bp        s1        s2        s3  \\\n",
       "0  0.038076  0.050680  0.061696  0.021872 -0.044223 -0.034821 -0.043401   \n",
       "1 -0.001882 -0.044642 -0.051474 -0.026328 -0.008449 -0.019163  0.074412   \n",
       "2  0.085299  0.050680  0.044451 -0.005671 -0.045599 -0.034194 -0.032356   \n",
       "3 -0.089063 -0.044642 -0.011595 -0.036656  0.012191  0.024991 -0.036038   \n",
       "4  0.005383 -0.044642 -0.036385  0.021872  0.003935  0.015596  0.008142   \n",
       "\n",
       "         s4        s5        s6  \n",
       "0 -0.002592  0.019908 -0.017646  \n",
       "1 -0.039493 -0.068330 -0.092204  \n",
       "2 -0.002592  0.002864 -0.025930  \n",
       "3  0.034309  0.022692 -0.009362  \n",
       "4 -0.002592 -0.031991 -0.046641  "
      ]
     },
     "execution_count": 44,
     "metadata": {},
     "output_type": "execute_result"
    }
   ],
   "source": [
    "X.head()"
   ]
  },
  {
   "cell_type": "code",
   "execution_count": 45,
   "metadata": {},
   "outputs": [],
   "source": [
    "from sklearn.linear_model import SGDRegressor"
   ]
  },
  {
   "cell_type": "code",
   "execution_count": 46,
   "metadata": {},
   "outputs": [
    {
     "data": {
      "text/plain": [
       "SGDRegressor(penalty=None)"
      ]
     },
     "execution_count": 46,
     "metadata": {},
     "output_type": "execute_result"
    }
   ],
   "source": [
    "# Instantiate a SGDRegressor object and run partial fit on X and y. For now, pass the argument `penalty=None`\n",
    "sdgr = SGDRegressor(penalty=None)\n",
    "sdgr.partial_fit(X, y)"
   ]
  },
  {
   "cell_type": "code",
   "execution_count": 47,
   "metadata": {},
   "outputs": [
    {
     "data": {
      "text/plain": [
       "array([ 0.44809271,  0.44673418,  2.49686566,  1.90867689,  0.78707356,\n",
       "        0.62310001, -1.99092478,  2.19674652,  2.62207785,  1.73157249])"
      ]
     },
     "execution_count": 47,
     "metadata": {},
     "output_type": "execute_result"
    }
   ],
   "source": [
    "# Inspect the coefficient array\n",
    "sdgr.coef_"
   ]
  },
  {
   "cell_type": "code",
   "execution_count": 48,
   "metadata": {},
   "outputs": [
    {
     "data": {
      "text/plain": [
       "87.56362851319676"
      ]
     },
     "execution_count": 48,
     "metadata": {},
     "output_type": "execute_result"
    }
   ],
   "source": [
    "# Import mean_squared_error from metrics, and pass in the true ys, an array of predictions\n",
    "# and the agrument squared = False\n",
    "from sklearn.metrics import mean_squared_error\n",
    "mean_squared_error(y, sdgr.predict(X), squared=False)"
   ]
  },
  {
   "cell_type": "code",
   "execution_count": 49,
   "metadata": {},
   "outputs": [
    {
     "data": {
      "text/plain": [
       "SGDRegressor(penalty=None)"
      ]
     },
     "execution_count": 49,
     "metadata": {},
     "output_type": "execute_result"
    }
   ],
   "source": [
    "# Repeat the partial fit. Inspect, RMSE, coefficients.\n",
    "sdgr.partial_fit(X, y)"
   ]
  },
  {
   "cell_type": "code",
   "execution_count": 50,
   "metadata": {},
   "outputs": [
    {
     "data": {
      "text/plain": [
       "array([ 1.04198986,  0.55319501,  4.34640189,  3.30364867,  1.43908494,\n",
       "        1.15490971, -3.22219216,  3.51815388,  4.4020088 ,  2.92789019])"
      ]
     },
     "execution_count": 50,
     "metadata": {},
     "output_type": "execute_result"
    }
   ],
   "source": [
    "sdgr.coef_"
   ]
  },
  {
   "cell_type": "code",
   "execution_count": 51,
   "metadata": {},
   "outputs": [
    {
     "data": {
      "text/plain": [
       "78.44156808976027"
      ]
     },
     "execution_count": 51,
     "metadata": {},
     "output_type": "execute_result"
    }
   ],
   "source": [
    "mean_squared_error(y, sdgr.predict(X), squared=False)"
   ]
  },
  {
   "cell_type": "markdown",
   "metadata": {},
   "source": [
    "Pick a coefficient, and explain the gradient descent update.\n"
   ]
  },
  {
   "cell_type": "markdown",
   "metadata": {},
   "source": [
    "Together, let's plot the trajectory of one coefficient against the loss. "
   ]
  },
  {
   "cell_type": "code",
   "execution_count": 52,
   "metadata": {},
   "outputs": [
    {
     "data": {
      "text/plain": [
       "[<matplotlib.lines.Line2D at 0x26a1a559e50>]"
      ]
     },
     "execution_count": 52,
     "metadata": {},
     "output_type": "execute_result"
    },
    {
     "data": {
      "image/png": "[encoded data removed]",
      "text/plain": [
       "<Figure size 432x288 with 1 Axes>"
      ]
     },
     "metadata": {
      "needs_background": "light"
     },
     "output_type": "display_data"
    }
   ],
   "source": [
    "# code\n",
    "import matplotlib.pyplot as plt\n",
    "fig, ax = plt.subplots()\n",
    "ax.plot(y, sdgr.predict(X))"
   ]
  },
  {
   "cell_type": "markdown",
   "metadata": {},
   "source": [
    "Compare that to a full fit of the SGDRegressor."
   ]
  },
  {
   "cell_type": "code",
   "execution_count": 53,
   "metadata": {},
   "outputs": [],
   "source": [
    "# code"
   ]
  },
  {
   "cell_type": "markdown",
   "metadata": {},
   "source": [
    "<a id='logistic'></a>"
   ]
  },
  {
   "cell_type": "markdown",
   "metadata": {},
   "source": [
    "# Logistic Regression and Modeling"
   ]
  },
  {
   "cell_type": "markdown",
   "metadata": {},
   "source": [
    "What type of target do we feed the logistic regression model?"
   ]
  },
  {
   "cell_type": "code",
   "execution_count": 54,
   "metadata": {},
   "outputs": [],
   "source": [
    "# your explanation here\n",
    "#binary categorical 0 or 1"
   ]
  },
  {
   "cell_type": "code",
   "execution_count": 55,
   "metadata": {},
   "outputs": [],
   "source": [
    "from sklearn.datasets import load_breast_cancer\n",
    "data = load_breast_cancer(as_frame=True)\n",
    "X = data['data']\n",
    "y = data['target']"
   ]
  },
  {
   "cell_type": "code",
   "execution_count": 56,
   "metadata": {},
   "outputs": [],
   "source": [
    "# Perform a train-test split\n",
    "from sklearn.model_selection import train_test_split\n",
    "X_train, X_test, y_train, y_test = train_test_split(X, y, random_state=42)"
   ]
  },
  {
   "cell_type": "markdown",
   "metadata": {},
   "source": [
    "### Question: What is the purpose of train/test split?  \n"
   ]
  },
  {
   "cell_type": "markdown",
   "metadata": {},
   "source": [
    "#### your explanation here\n",
    "the purpose of the train test split is to train part of the data and fit the model ont hat training data. \n",
    "we then use that fitted model and apply it to our test data and see how well our model performs on data it wasn't\n",
    "trained on"
   ]
  },
  {
   "cell_type": "markdown",
   "metadata": {},
   "source": [
    "### Question: Why should we never fit to the test portion of our dataset?"
   ]
  },
  {
   "cell_type": "markdown",
   "metadata": {},
   "source": [
    "#### your explanation here\n",
    "we dont fit our test part of the dataset because if we fit that part then thats just creating a model out of our end result- "
   ]
  },
  {
   "cell_type": "code",
   "execution_count": 63,
   "metadata": {},
   "outputs": [],
   "source": [
    "# Scale the training set using a standard scaler\n",
    "from sklearn.preprocessing import StandardScaler\n",
    "ss = StandardScaler()\n",
    "X_train_scaled = ss.fit_transform(X_train)"
   ]
  },
  {
   "cell_type": "code",
   "execution_count": 64,
   "metadata": {},
   "outputs": [],
   "source": [
    "X_train_scaled = pd.DataFrame(X_train_scaled, columns=X_train.columns, index=X_train.index)"
   ]
  },
  {
   "cell_type": "code",
   "execution_count": 65,
   "metadata": {},
   "outputs": [
    {
     "data": {
      "text/html": [
       "<div>\n",
       "<style scoped>\n",
       "    .dataframe tbody tr th:only-of-type {\n",
       "        vertical-align: middle;\n",
       "    }\n",
       "\n",
       "    .dataframe tbody tr th {\n",
       "        vertical-align: top;\n",
       "    }\n",
       "\n",
       "    .dataframe thead th {\n",
       "        text-align: right;\n",
       "    }\n",
       "</style>\n",
       "<table border=\"1\" class=\"dataframe\">\n",
       "  <thead>\n",
       "    <tr style=\"text-align: right;\">\n",
       "      <th></th>\n",
       "      <th>mean radius</th>\n",
       "      <th>mean texture</th>\n",
       "      <th>mean perimeter</th>\n",
       "      <th>mean area</th>\n",
       "      <th>mean smoothness</th>\n",
       "      <th>mean compactness</th>\n",
       "      <th>mean concavity</th>\n",
       "      <th>mean concave points</th>\n",
       "      <th>mean symmetry</th>\n",
       "      <th>mean fractal dimension</th>\n",
       "      <th>...</th>\n",
       "      <th>worst radius</th>\n",
       "      <th>worst texture</th>\n",
       "      <th>worst perimeter</th>\n",
       "      <th>worst area</th>\n",
       "      <th>worst smoothness</th>\n",
       "      <th>worst compactness</th>\n",
       "      <th>worst concavity</th>\n",
       "      <th>worst concave points</th>\n",
       "      <th>worst symmetry</th>\n",
       "      <th>worst fractal dimension</th>\n",
       "    </tr>\n",
       "  </thead>\n",
       "  <tbody>\n",
       "    <tr>\n",
       "      <th>287</th>\n",
       "      <td>-0.349138</td>\n",
       "      <td>-1.438513</td>\n",
       "      <td>-0.411726</td>\n",
       "      <td>-0.390479</td>\n",
       "      <td>-1.863662</td>\n",
       "      <td>-1.268607</td>\n",
       "      <td>-0.826171</td>\n",
       "      <td>-0.952866</td>\n",
       "      <td>-1.729368</td>\n",
       "      <td>-0.941541</td>\n",
       "      <td>...</td>\n",
       "      <td>-0.542685</td>\n",
       "      <td>-1.655655</td>\n",
       "      <td>-0.589864</td>\n",
       "      <td>-0.525560</td>\n",
       "      <td>-1.510669</td>\n",
       "      <td>-0.891500</td>\n",
       "      <td>-0.750217</td>\n",
       "      <td>-0.916711</td>\n",
       "      <td>-0.925086</td>\n",
       "      <td>-0.808411</td>\n",
       "    </tr>\n",
       "    <tr>\n",
       "      <th>512</th>\n",
       "      <td>-0.204687</td>\n",
       "      <td>0.312640</td>\n",
       "      <td>-0.133673</td>\n",
       "      <td>-0.275880</td>\n",
       "      <td>1.078073</td>\n",
       "      <td>0.863546</td>\n",
       "      <td>0.726314</td>\n",
       "      <td>0.898441</td>\n",
       "      <td>1.178770</td>\n",
       "      <td>1.474377</td>\n",
       "      <td>...</td>\n",
       "      <td>0.041487</td>\n",
       "      <td>0.689899</td>\n",
       "      <td>0.194128</td>\n",
       "      <td>-0.051934</td>\n",
       "      <td>1.129415</td>\n",
       "      <td>0.923942</td>\n",
       "      <td>1.222217</td>\n",
       "      <td>1.436560</td>\n",
       "      <td>1.149559</td>\n",
       "      <td>1.569111</td>\n",
       "    </tr>\n",
       "    <tr>\n",
       "      <th>402</th>\n",
       "      <td>-0.329312</td>\n",
       "      <td>-0.215072</td>\n",
       "      <td>-0.317394</td>\n",
       "      <td>-0.364357</td>\n",
       "      <td>-1.579880</td>\n",
       "      <td>-0.457451</td>\n",
       "      <td>-0.597310</td>\n",
       "      <td>-0.764588</td>\n",
       "      <td>0.275343</td>\n",
       "      <td>-0.501024</td>\n",
       "      <td>...</td>\n",
       "      <td>-0.435901</td>\n",
       "      <td>-0.148985</td>\n",
       "      <td>-0.320159</td>\n",
       "      <td>-0.446032</td>\n",
       "      <td>-1.634396</td>\n",
       "      <td>-0.106752</td>\n",
       "      <td>-0.539891</td>\n",
       "      <td>-0.723713</td>\n",
       "      <td>0.534970</td>\n",
       "      <td>-0.619348</td>\n",
       "    </tr>\n",
       "    <tr>\n",
       "      <th>446</th>\n",
       "      <td>1.027403</td>\n",
       "      <td>2.089824</td>\n",
       "      <td>1.046922</td>\n",
       "      <td>0.917584</td>\n",
       "      <td>0.316303</td>\n",
       "      <td>0.562037</td>\n",
       "      <td>1.048527</td>\n",
       "      <td>0.930437</td>\n",
       "      <td>-0.325697</td>\n",
       "      <td>-0.477474</td>\n",
       "      <td>...</td>\n",
       "      <td>1.113515</td>\n",
       "      <td>2.165006</td>\n",
       "      <td>1.165793</td>\n",
       "      <td>0.997696</td>\n",
       "      <td>0.383604</td>\n",
       "      <td>0.860948</td>\n",
       "      <td>1.872819</td>\n",
       "      <td>1.310691</td>\n",
       "      <td>0.152884</td>\n",
       "      <td>0.421636</td>\n",
       "    </tr>\n",
       "    <tr>\n",
       "      <th>210</th>\n",
       "      <td>1.828969</td>\n",
       "      <td>0.696001</td>\n",
       "      <td>1.763681</td>\n",
       "      <td>1.783821</td>\n",
       "      <td>-0.333674</td>\n",
       "      <td>0.628175</td>\n",
       "      <td>0.974660</td>\n",
       "      <td>1.265740</td>\n",
       "      <td>-0.131572</td>\n",
       "      <td>-1.713139</td>\n",
       "      <td>...</td>\n",
       "      <td>1.471556</td>\n",
       "      <td>0.387568</td>\n",
       "      <td>1.556276</td>\n",
       "      <td>1.385595</td>\n",
       "      <td>-0.577759</td>\n",
       "      <td>0.296680</td>\n",
       "      <td>0.595768</td>\n",
       "      <td>1.232995</td>\n",
       "      <td>0.050452</td>\n",
       "      <td>-1.406351</td>\n",
       "    </tr>\n",
       "  </tbody>\n",
       "</table>\n",
       "<p>5 rows × 30 columns</p>\n",
       "</div>"
      ],
      "text/plain": [
       "     mean radius  mean texture  mean perimeter  mean area  mean smoothness  \\\n",
       "287    -0.349138     -1.438513       -0.411726  -0.390479        -1.863662   \n",
       "512    -0.204687      0.312640       -0.133673  -0.275880         1.078073   \n",
       "402    -0.329312     -0.215072       -0.317394  -0.364357        -1.579880   \n",
       "446     1.027403      2.089824        1.046922   0.917584         0.316303   \n",
       "210     1.828969      0.696001        1.763681   1.783821        -0.333674   \n",
       "\n",
       "     mean compactness  mean concavity  mean concave points  mean symmetry  \\\n",
       "287         -1.268607       -0.826171            -0.952866      -1.729368   \n",
       "512          0.863546        0.726314             0.898441       1.178770   \n",
       "402         -0.457451       -0.597310            -0.764588       0.275343   \n",
       "446          0.562037        1.048527             0.930437      -0.325697   \n",
       "210          0.628175        0.974660             1.265740      -0.131572   \n",
       "\n",
       "     mean fractal dimension  ...  worst radius  worst texture  \\\n",
       "287               -0.941541  ...     -0.542685      -1.655655   \n",
       "512                1.474377  ...      0.041487       0.689899   \n",
       "402               -0.501024  ...     -0.435901      -0.148985   \n",
       "446               -0.477474  ...      1.113515       2.165006   \n",
       "210               -1.713139  ...      1.471556       0.387568   \n",
       "\n",
       "     worst perimeter  worst area  worst smoothness  worst compactness  \\\n",
       "287        -0.589864   -0.525560         -1.510669          -0.891500   \n",
       "512         0.194128   -0.051934          1.129415           0.923942   \n",
       "402        -0.320159   -0.446032         -1.634396          -0.106752   \n",
       "446         1.165793    0.997696          0.383604           0.860948   \n",
       "210         1.556276    1.385595         -0.577759           0.296680   \n",
       "\n",
       "     worst concavity  worst concave points  worst symmetry  \\\n",
       "287        -0.750217             -0.916711       -0.925086   \n",
       "512         1.222217              1.436560        1.149559   \n",
       "402        -0.539891             -0.723713        0.534970   \n",
       "446         1.872819              1.310691        0.152884   \n",
       "210         0.595768              1.232995        0.050452   \n",
       "\n",
       "     worst fractal dimension  \n",
       "287                -0.808411  \n",
       "512                 1.569111  \n",
       "402                -0.619348  \n",
       "446                 0.421636  \n",
       "210                -1.406351  \n",
       "\n",
       "[5 rows x 30 columns]"
      ]
     },
     "execution_count": 65,
     "metadata": {},
     "output_type": "execute_result"
    }
   ],
   "source": [
    "X_train_scaled.head()"
   ]
  },
  {
   "cell_type": "markdown",
   "metadata": {},
   "source": [
    "### Question: Why is scaling our data important? For part of your answer, relate to one of the advantages of logistic regression over another classifier."
   ]
  },
  {
   "cell_type": "markdown",
   "metadata": {},
   "source": [
    "#### your explanation here\n",
    "- scaling is important because some data will have a bigger impact than others. \n",
    "- in logistic regression model its important because ridge/lasso regularization to give it all equal weight\n",
    "- easier to interperet "
   ]
  },
  {
   "cell_type": "code",
   "execution_count": 67,
   "metadata": {},
   "outputs": [],
   "source": [
    "# fit model with logistic regression to the appropriate portion of our dataset\n",
    "from sklearn.linear_model import LogisticRegression"
   ]
  },
  {
   "cell_type": "code",
   "execution_count": 71,
   "metadata": {},
   "outputs": [
    {
     "data": {
      "text/plain": [
       "LogisticRegression(random_state=42)"
      ]
     },
     "execution_count": 71,
     "metadata": {},
     "output_type": "execute_result"
    }
   ],
   "source": [
    "lr= LogisticRegression(random_state=42)\n",
    "lr.fit(X_train_scaled, y_train)"
   ]
  },
  {
   "cell_type": "markdown",
   "metadata": {},
   "source": [
    "Now that we have fit our classifier, the object `lr` has been filled up with information about the best fit parameters.  Take a look at the coefficients held in the `lr` object.  Interpret what their magnitudes mean."
   ]
  },
  {
   "cell_type": "code",
   "execution_count": 72,
   "metadata": {},
   "outputs": [
    {
     "data": {
      "text/plain": [
       "array([[-0.39751679, -0.41535774, -0.34832129, -0.45142016, -0.20791905,\n",
       "         0.62039231, -0.73558933, -1.09376305,  0.23601875,  0.08357971,\n",
       "        -1.28501592,  0.22136641, -0.58858571, -0.89527827, -0.19689721,\n",
       "         0.63403697, -0.14135554, -0.40058728,  0.5262862 ,  0.73327971,\n",
       "        -0.84378886, -1.29571675, -0.51790962, -0.82723207, -0.53895662,\n",
       "         0.12288567, -1.00748469, -0.76642547, -1.21963558, -0.14580732]])"
      ]
     },
     "execution_count": 72,
     "metadata": {},
     "output_type": "execute_result"
    }
   ],
   "source": [
    "# Inspect the .coef_ attribute of lr and interpret\n",
    "lr.coef_\n",
    "#these coefficients means"
   ]
  },
  {
   "cell_type": "code",
   "execution_count": 74,
   "metadata": {},
   "outputs": [
    {
     "data": {
      "image/png": "[encoded data removed]",
      "text/plain": [
       "<Figure size 720x720 with 1 Axes>"
      ]
     },
     "metadata": {
      "needs_background": "light"
     },
     "output_type": "display_data"
    }
   ],
   "source": [
    "fig, ax = plt.subplots(figsize=(10,10))\n",
    "ax.barh(X.columns, lr.coef_[0])\n",
    "ax.tick_params(axis='x')\n",
    "#larger negative value - class 0 \n",
    "#larger positive value more likely to predict class 1"
   ]
  },
  {
   "cell_type": "markdown",
   "metadata": {},
   "source": [
    "Logistic regression has a predict method just like linear regression.  Use the predict method to generate a set of predictions (y_hat_train) for the training set."
   ]
  },
  {
   "cell_type": "code",
   "execution_count": 76,
   "metadata": {},
   "outputs": [
    {
     "data": {
      "text/plain": [
       "array([1, 0, 1, 0, 0, 0, 1, 0, 1, 1, 1, 1, 0, 0, 1, 1, 1, 1, 1, 1, 1, 0,\n",
       "       1, 1, 1, 1, 0, 1, 1, 1, 1, 1, 1, 0, 1, 1, 1, 1, 1, 1, 0, 0, 0, 0,\n",
       "       1, 0, 1, 0, 1, 1, 1, 1, 0, 1, 1, 0, 1, 1, 1, 0, 1, 0, 0, 1, 1, 1,\n",
       "       0, 1, 1, 1, 1, 0, 1, 1, 1, 1, 1, 0, 1, 0, 0, 1, 1, 0, 1, 1, 1, 1,\n",
       "       1, 1, 1, 0, 0, 0, 1, 1, 0, 1, 1, 0, 1, 0, 1, 0, 1, 1, 1, 1, 0, 1,\n",
       "       1, 1, 0, 1, 0, 1, 0, 1, 0, 1, 1, 0, 1, 1, 1, 1, 0, 1, 1, 1, 0, 1,\n",
       "       1, 0, 1, 1, 0, 1, 1, 1, 1, 1, 1, 1, 0, 1, 1, 1, 0, 1, 0, 1, 1, 1,\n",
       "       0, 1, 0, 0, 1, 1, 0, 1, 0, 0, 1, 1, 1, 1, 0, 1, 1, 0, 1, 0, 1, 1,\n",
       "       1, 0, 1, 0, 1, 1, 0, 0, 1, 1, 0, 1, 0, 0, 1, 0, 0, 1, 1, 0, 0, 0,\n",
       "       1, 1, 1, 1, 0, 1, 0, 0, 0, 0, 1, 1, 1, 1, 1, 1, 1, 1, 0, 0, 1, 1,\n",
       "       0, 1, 1, 1, 1, 1, 0, 1, 1, 0, 0, 1, 0, 1, 0, 1, 1, 1, 1, 1, 1, 0,\n",
       "       1, 1, 0, 1, 1, 1, 1, 1, 1, 0, 1, 1, 0, 1, 0, 0, 0, 1, 0, 1, 1, 0,\n",
       "       0, 0, 1, 1, 1, 1, 1, 1, 1, 0, 1, 1, 1, 0, 1, 1, 0, 0, 1, 0, 1, 0,\n",
       "       0, 1, 1, 0, 1, 0, 0, 1, 0, 0, 1, 1, 0, 1, 0, 1, 1, 0, 1, 1, 0, 0,\n",
       "       0, 1, 1, 1, 0, 0, 1, 0, 0, 1, 1, 1, 0, 1, 0, 0, 0, 1, 1, 1, 0, 1,\n",
       "       1, 0, 0, 0, 0, 1, 0, 1, 1, 1, 1, 1, 1, 1, 0, 0, 0, 0, 1, 1, 1, 1,\n",
       "       0, 1, 0, 1, 1, 1, 1, 1, 0, 0, 0, 1, 1, 0, 1, 1, 0, 0, 0, 0, 1, 1,\n",
       "       0, 0, 1, 1, 1, 0, 0, 0, 1, 1, 0, 1, 1, 1, 1, 0, 1, 1, 1, 1, 1, 1,\n",
       "       1, 1, 1, 0, 1, 1, 1, 1, 1, 1, 0, 0, 1, 0, 1, 1, 0, 0, 0, 1, 0, 0,\n",
       "       1, 0, 1, 1, 1, 1, 0, 1])"
      ]
     },
     "execution_count": 76,
     "metadata": {},
     "output_type": "execute_result"
    }
   ],
   "source": [
    "# use predict to generate a set of predictions\n",
    "y_hat_train = lr.predict(X_train_scaled)\n",
    "y_hat_train"
   ]
  },
  {
   "cell_type": "markdown",
   "metadata": {},
   "source": [
    "<a id='con_mat'></a>"
   ]
  },
  {
   "cell_type": "markdown",
   "metadata": {},
   "source": [
    "### Confusion Matrix"
   ]
  },
  {
   "cell_type": "markdown",
   "metadata": {},
   "source": [
    "Confusion matrices are a great way to visualize the performance of our classifiers. "
   ]
  },
  {
   "cell_type": "markdown",
   "metadata": {},
   "source": [
    "### Question: What does a good confusion matrix look like?"
   ]
  },
  {
   "cell_type": "code",
   "execution_count": null,
   "metadata": {},
   "outputs": [],
   "source": [
    "# your explanation here\n",
    "#numbers concentrated in the top left and the bottom right"
   ]
  },
  {
   "cell_type": "code",
   "execution_count": 80,
   "metadata": {},
   "outputs": [
    {
     "data": {
      "text/plain": [
       "<sklearn.metrics._plot.confusion_matrix.ConfusionMatrixDisplay at 0x26a1a68a970>"
      ]
     },
     "execution_count": 80,
     "metadata": {},
     "output_type": "execute_result"
    },
    {
     "data": {
      "image/png": "[encoded data removed]",
      "text/plain": [
       "<Figure size 432x288 with 2 Axes>"
      ]
     },
     "metadata": {
      "needs_background": "light"
     },
     "output_type": "display_data"
    }
   ],
   "source": [
    "# create a confusion matrix for our logistic regression model fit on the scaled training data\n",
    "from sklearn.metrics import plot_confusion_matrix\n",
    "plot_confusion_matrix(lr, X_train_scaled, y_train)"
   ]
  },
  {
   "cell_type": "markdown",
   "metadata": {},
   "source": [
    "<a id='more_metrics'></a>"
   ]
  },
  {
   "cell_type": "markdown",
   "metadata": {},
   "source": [
    "## Accuracy/Precision/Recall/F_1 Score"
   ]
  },
  {
   "cell_type": "markdown",
   "metadata": {},
   "source": [
    "We have a bunch of additional metrics, most of which we can figure out from the CM"
   ]
  },
  {
   "cell_type": "markdown",
   "metadata": {},
   "source": [
    "### Question: Define accuracy. What is the accuracy score of our classifier?"
   ]
  },
  {
   "cell_type": "code",
   "execution_count": 87,
   "metadata": {},
   "outputs": [],
   "source": [
    "#how correct our predictions are\n",
    "#Confirm accuracy in code\n",
    "#accuracy = (true positives + true negatives) / all observatiosn\n",
    "accuracy = (266 + 2)/(266+2+4+154)"
   ]
  },
  {
   "cell_type": "code",
   "execution_count": 88,
   "metadata": {},
   "outputs": [],
   "source": [
    "from sklearn.metrics import accuracy_score, precision_score, recall_score, f1_score"
   ]
  },
  {
   "cell_type": "code",
   "execution_count": 90,
   "metadata": {},
   "outputs": [
    {
     "data": {
      "text/plain": [
       "0.9859154929577465"
      ]
     },
     "execution_count": 90,
     "metadata": {},
     "output_type": "execute_result"
    }
   ],
   "source": [
    "accuracy_score(y_train, y_hat_train)"
   ]
  },
  {
   "cell_type": "code",
   "execution_count": 91,
   "metadata": {},
   "outputs": [
    {
     "data": {
      "text/plain": [
       "array([[154,   4],\n",
       "       [  2, 266]], dtype=int64)"
      ]
     },
     "execution_count": 91,
     "metadata": {},
     "output_type": "execute_result"
    }
   ],
   "source": [
    "from sklearn.metrics import confusion_matrix\n",
    "confusion_matrix(y_train, y_hat_train)"
   ]
  },
  {
   "cell_type": "code",
   "execution_count": 92,
   "metadata": {},
   "outputs": [],
   "source": [
    "tn = confusion_matrix(y_train, y_hat_train)[0,0]\n",
    "tp = confusion_matrix(y_train, y_hat_train)[1,1]\n",
    "fp = confusion_matrix(y_train, y_hat_train)[0,1]\n",
    "fn = confusion_matrix(y_train, y_hat_train)[1,0]"
   ]
  },
  {
   "cell_type": "code",
   "execution_count": 251,
   "metadata": {},
   "outputs": [
    {
     "data": {
      "text/plain": [
       "2"
      ]
     },
     "execution_count": 251,
     "metadata": {},
     "output_type": "execute_result"
    }
   ],
   "source": [
    "fn"
   ]
  },
  {
   "cell_type": "code",
   "execution_count": 250,
   "metadata": {},
   "outputs": [
    {
     "data": {
      "text/plain": [
       "4"
      ]
     },
     "execution_count": 250,
     "metadata": {},
     "output_type": "execute_result"
    }
   ],
   "source": [
    "fp"
   ]
  },
  {
   "cell_type": "code",
   "execution_count": 93,
   "metadata": {},
   "outputs": [
    {
     "data": {
      "text/plain": [
       "0.9859154929577465"
      ]
     },
     "execution_count": 93,
     "metadata": {},
     "output_type": "execute_result"
    }
   ],
   "source": [
    "correct_preds = tp + tn\n",
    "total_preds = tp + tn + fp + fn\n",
    "\n",
    "correct_preds/total_preds"
   ]
  },
  {
   "cell_type": "markdown",
   "metadata": {},
   "source": [
    "### Question: Why might accuracy fail to be a good representation of the quality of a classifier?"
   ]
  },
  {
   "cell_type": "markdown",
   "metadata": {},
   "source": [
    "#### your explanation here\n",
    "- class imbalance and we care about the the small under represented class"
   ]
  },
  {
   "cell_type": "markdown",
   "metadata": {},
   "source": [
    "### Question: Define recall. What is the recall score of our classifier?"
   ]
  },
  {
   "cell_type": "code",
   "execution_count": 96,
   "metadata": {},
   "outputs": [
    {
     "data": {
      "text/plain": [
       "0.9925373134328358"
      ]
     },
     "execution_count": 96,
     "metadata": {},
     "output_type": "execute_result"
    }
   ],
   "source": [
    "# Confirm recall in code\n",
    "#how often it correctly identifies a true positive\n",
    "# recall = true positives/ number of actual true positives\n",
    "266/(266+2)"
   ]
  },
  {
   "cell_type": "code",
   "execution_count": 97,
   "metadata": {},
   "outputs": [
    {
     "data": {
      "text/plain": [
       "0.9925373134328358"
      ]
     },
     "execution_count": 97,
     "metadata": {},
     "output_type": "execute_result"
    }
   ],
   "source": [
    "recall = tp/(tp+fn)\n",
    "recall"
   ]
  },
  {
   "cell_type": "markdown",
   "metadata": {},
   "source": [
    "### Question: Define precision? What is the precision score of our classifier?"
   ]
  },
  {
   "cell_type": "code",
   "execution_count": 99,
   "metadata": {},
   "outputs": [
    {
     "data": {
      "text/plain": [
       "0.9851851851851852"
      ]
     },
     "execution_count": 99,
     "metadata": {},
     "output_type": "execute_result"
    }
   ],
   "source": [
    "# Confirm precision in code\n",
    "#what percentage of the our postiive predictions are correct\n",
    "#precision = number of true positiives/ number of predicted positives\n",
    "266/(266+4)"
   ]
  },
  {
   "cell_type": "code",
   "execution_count": 102,
   "metadata": {},
   "outputs": [],
   "source": [
    "precision = tp / (tp + fp)"
   ]
  },
  {
   "cell_type": "markdown",
   "metadata": {},
   "source": [
    "### Question: Define f1 score? What is the f1 score score of our classifier?"
   ]
  },
  {
   "cell_type": "code",
   "execution_count": 103,
   "metadata": {},
   "outputs": [],
   "source": [
    "# your explanation here\n",
    "#combination of precision and recall\n",
    "#f1 score = 2 * (precision * recall)/(precision + recall)"
   ]
  },
  {
   "cell_type": "code",
   "execution_count": 104,
   "metadata": {},
   "outputs": [
    {
     "data": {
      "text/plain": [
       "0.9888475836431226"
      ]
     },
     "execution_count": 104,
     "metadata": {},
     "output_type": "execute_result"
    }
   ],
   "source": [
    "2*(precision*recall)/(precision+recall)"
   ]
  },
  {
   "cell_type": "code",
   "execution_count": 108,
   "metadata": {},
   "outputs": [
    {
     "name": "stdout",
     "output_type": "stream",
     "text": [
      "              precision    recall  f1-score   support\n",
      "\n",
      "           0       0.99      0.97      0.98       158\n",
      "           1       0.99      0.99      0.99       268\n",
      "\n",
      "    accuracy                           0.99       426\n",
      "   macro avg       0.99      0.98      0.98       426\n",
      "weighted avg       0.99      0.99      0.99       426\n",
      "\n"
     ]
    }
   ],
   "source": [
    "from sklearn.metrics import classification_report\n",
    "print(classification_report(y_train, y_hat_train))"
   ]
  },
  {
   "cell_type": "markdown",
   "metadata": {},
   "source": [
    "<a id='auc_roc'></a>"
   ]
  },
  {
   "cell_type": "markdown",
   "metadata": {},
   "source": [
    "## Auc_Roc"
   ]
  },
  {
   "cell_type": "markdown",
   "metadata": {},
   "source": [
    "The AUC_ROC curve can't be deduced from the confusion matrix.  Describe what the AUC_ROC curve shows. \n",
    "Look [here](https://towardsdatascience.com/understanding-auc-roc-curve-68b2303cc9c5) for some nice visualizations of AUC_ROC."
   ]
  },
  {
   "cell_type": "markdown",
   "metadata": {},
   "source": [
    "### Describe the AUC_ROC curve.  What does a good AUC_ROC curve look like? What is a good AUC_ROC score?"
   ]
  },
  {
   "cell_type": "code",
   "execution_count": 114,
   "metadata": {},
   "outputs": [],
   "source": [
    "# your explanation here\n",
    "#plots the true positive rate against the false positive rate\n",
    "#a good auc_roc curve hugs the left side and top side of the graph.\n",
    "# a good score is 1 as perfect classifier, ~.75 is good .5 is garbage\n",
    "#roc tells us how our values (fpr and tpr) would change as we move along different thresholds\n",
    "#defualt threshold is .5 for logistic regression"
   ]
  },
  {
   "cell_type": "markdown",
   "metadata": {},
   "source": [
    "One of the advantages of logistic regression is that it generates a set of probabilities associated with each prediction.  What is the default threshold?  How would decrease or increasing your threshold affect true positive and false positive rates?"
   ]
  },
  {
   "cell_type": "markdown",
   "metadata": {},
   "source": [
    "\n",
    "For our scaled X_train, generate an array of probabilities associated with the probability of the positive class."
   ]
  },
  {
   "cell_type": "code",
   "execution_count": 118,
   "metadata": {},
   "outputs": [
    {
     "data": {
      "text/plain": [
       "array([[3.13192656e-05, 9.99968681e-01],\n",
       "       [9.97136273e-01, 2.86372729e-03],\n",
       "       [7.30392396e-04, 9.99269608e-01],\n",
       "       [9.99996275e-01, 3.72508743e-06],\n",
       "       [9.99998438e-01, 1.56225670e-06],\n",
       "       [6.87592936e-01, 3.12407064e-01],\n",
       "       [1.78880219e-04, 9.99821120e-01],\n",
       "       [9.42932637e-01, 5.70673632e-02],\n",
       "       [1.40867549e-04, 9.99859132e-01],\n",
       "       [9.25542793e-06, 9.99990745e-01],\n",
       "       [2.46012137e-02, 9.75398786e-01],\n",
       "       [8.21706343e-04, 9.99178294e-01],\n",
       "       [1.00000000e+00, 6.18453263e-13],\n",
       "       [9.99886572e-01, 1.13427902e-04],\n",
       "       [3.59905547e-05, 9.99964009e-01],\n",
       "       [9.21976044e-03, 9.90780240e-01],\n",
       "       [1.77623231e-05, 9.99982238e-01],\n",
       "       [6.10891915e-08, 9.99999939e-01],\n",
       "       [4.32816112e-04, 9.99567184e-01],\n",
       "       [1.84288620e-04, 9.99815711e-01],\n",
       "       [2.42911638e-03, 9.97570884e-01],\n",
       "       [9.26619683e-01, 7.33803170e-02],\n",
       "       [9.63772303e-04, 9.99036228e-01],\n",
       "       [8.94753245e-04, 9.99105247e-01],\n",
       "       [3.16700972e-01, 6.83299028e-01],\n",
       "       [2.03171191e-05, 9.99979683e-01],\n",
       "       [9.82568002e-01, 1.74319982e-02],\n",
       "       [1.89001622e-02, 9.81099838e-01],\n",
       "       [1.22780949e-03, 9.98772191e-01],\n",
       "       [8.49499774e-04, 9.99150500e-01],\n",
       "       [7.33343770e-02, 9.26665623e-01],\n",
       "       [2.39054733e-03, 9.97609453e-01],\n",
       "       [3.34887759e-02, 9.66511224e-01],\n",
       "       [8.79522711e-01, 1.20477289e-01],\n",
       "       [3.60810369e-02, 9.63918963e-01],\n",
       "       [2.04580423e-03, 9.97954196e-01],\n",
       "       [1.86981264e-02, 9.81301874e-01],\n",
       "       [8.31339670e-02, 9.16866033e-01],\n",
       "       [7.31484709e-02, 9.26851529e-01],\n",
       "       [4.43466050e-04, 9.99556534e-01],\n",
       "       [9.88807437e-01, 1.11925633e-02],\n",
       "       [9.99807175e-01, 1.92824524e-04],\n",
       "       [9.57261161e-01, 4.27388391e-02],\n",
       "       [5.07949160e-01, 4.92050840e-01],\n",
       "       [7.18077296e-02, 9.28192270e-01],\n",
       "       [9.93689478e-01, 6.31052182e-03],\n",
       "       [9.98908968e-04, 9.99001091e-01],\n",
       "       [9.99999768e-01, 2.32228401e-07],\n",
       "       [9.55396720e-03, 9.90446033e-01],\n",
       "       [1.25850360e-03, 9.98741496e-01],\n",
       "       [1.87969477e-05, 9.99981203e-01],\n",
       "       [5.94501403e-04, 9.99405499e-01],\n",
       "       [9.67615983e-01, 3.23840169e-02],\n",
       "       [2.27145438e-01, 7.72854562e-01],\n",
       "       [9.23675873e-05, 9.99907632e-01],\n",
       "       [9.99998711e-01, 1.28940353e-06],\n",
       "       [1.11414970e-04, 9.99888585e-01],\n",
       "       [5.80835573e-03, 9.94191644e-01],\n",
       "       [2.26868641e-04, 9.99773131e-01],\n",
       "       [9.99999802e-01, 1.97749525e-07],\n",
       "       [2.03843583e-03, 9.97961564e-01],\n",
       "       [9.99999927e-01, 7.30704357e-08],\n",
       "       [9.99999500e-01, 4.99824817e-07],\n",
       "       [1.44243774e-04, 9.99855756e-01],\n",
       "       [1.54860575e-03, 9.98451394e-01],\n",
       "       [1.04244203e-01, 8.95755797e-01],\n",
       "       [9.71793948e-01, 2.82060525e-02],\n",
       "       [5.70890655e-05, 9.99942911e-01],\n",
       "       [1.97994093e-05, 9.99980201e-01],\n",
       "       [2.81828893e-04, 9.99718171e-01],\n",
       "       [4.98347032e-06, 9.99995017e-01],\n",
       "       [9.97265321e-01, 2.73467924e-03],\n",
       "       [6.56821039e-05, 9.99934318e-01],\n",
       "       [1.15588774e-03, 9.98844112e-01],\n",
       "       [3.44725695e-06, 9.99996553e-01],\n",
       "       [1.67020624e-04, 9.99832979e-01],\n",
       "       [1.50592568e-05, 9.99984941e-01],\n",
       "       [9.95761981e-01, 4.23801883e-03],\n",
       "       [1.09491632e-01, 8.90508368e-01],\n",
       "       [9.99999975e-01, 2.45478133e-08],\n",
       "       [9.99985823e-01, 1.41766671e-05],\n",
       "       [4.68766302e-03, 9.95312337e-01],\n",
       "       [1.13899067e-03, 9.98861009e-01],\n",
       "       [9.99999996e-01, 4.39354932e-09],\n",
       "       [3.15773573e-03, 9.96842264e-01],\n",
       "       [5.15409203e-07, 9.99999485e-01],\n",
       "       [2.90068797e-02, 9.70993120e-01],\n",
       "       [1.33653561e-02, 9.86634644e-01],\n",
       "       [5.68127738e-02, 9.43187226e-01],\n",
       "       [1.59718147e-03, 9.98402819e-01],\n",
       "       [1.52149441e-03, 9.98478506e-01],\n",
       "       [8.28358959e-01, 1.71641041e-01],\n",
       "       [9.97524540e-01, 2.47545977e-03],\n",
       "       [1.00000000e+00, 1.03984997e-12],\n",
       "       [3.00047604e-05, 9.99969995e-01],\n",
       "       [1.34127569e-02, 9.86587243e-01],\n",
       "       [9.99999969e-01, 3.14427713e-08],\n",
       "       [3.64302734e-03, 9.96356973e-01],\n",
       "       [2.60020330e-03, 9.97399797e-01],\n",
       "       [9.99612945e-01, 3.87054546e-04],\n",
       "       [4.01185190e-03, 9.95988148e-01],\n",
       "       [9.48095431e-01, 5.19045685e-02],\n",
       "       [2.40784372e-06, 9.99997592e-01],\n",
       "       [9.99997745e-01, 2.25526395e-06],\n",
       "       [8.16811905e-04, 9.99183188e-01],\n",
       "       [4.20816896e-01, 5.79183104e-01],\n",
       "       [7.87275484e-04, 9.99212725e-01],\n",
       "       [2.53433407e-01, 7.46566593e-01],\n",
       "       [9.96700036e-01, 3.29996443e-03],\n",
       "       [7.46667588e-03, 9.92533324e-01],\n",
       "       [1.42164236e-04, 9.99857836e-01],\n",
       "       [3.26895515e-02, 9.67310448e-01],\n",
       "       [9.99315296e-01, 6.84704408e-04],\n",
       "       [8.35627778e-03, 9.91643722e-01],\n",
       "       [9.99994154e-01, 5.84589423e-06],\n",
       "       [2.23213605e-01, 7.76786395e-01],\n",
       "       [9.99636897e-01, 3.63103206e-04],\n",
       "       [1.23262852e-03, 9.98767371e-01],\n",
       "       [9.80470593e-01, 1.95294072e-02],\n",
       "       [9.13329988e-05, 9.99908667e-01],\n",
       "       [3.15338301e-01, 6.84661699e-01],\n",
       "       [9.99859579e-01, 1.40420717e-04],\n",
       "       [8.72211218e-02, 9.12778878e-01],\n",
       "       [4.89356909e-07, 9.99999511e-01],\n",
       "       [1.77221829e-04, 9.99822778e-01],\n",
       "       [4.89058759e-04, 9.99510941e-01],\n",
       "       [8.86705634e-01, 1.13294366e-01],\n",
       "       [1.20355817e-01, 8.79644183e-01],\n",
       "       [1.48173608e-03, 9.98518264e-01],\n",
       "       [1.91389530e-03, 9.98086105e-01],\n",
       "       [9.99999570e-01, 4.30011261e-07],\n",
       "       [3.22225874e-01, 6.77774126e-01],\n",
       "       [3.50348732e-03, 9.96496513e-01],\n",
       "       [9.83502532e-01, 1.64974681e-02],\n",
       "       [3.05926043e-02, 9.69407396e-01],\n",
       "       [2.29496350e-05, 9.99977050e-01],\n",
       "       [9.99999915e-01, 8.52081541e-08],\n",
       "       [7.05687389e-04, 9.99294313e-01],\n",
       "       [8.11158690e-05, 9.99918884e-01],\n",
       "       [2.38072322e-03, 9.97619277e-01],\n",
       "       [6.12218529e-03, 9.93877815e-01],\n",
       "       [2.43745099e-03, 9.97562549e-01],\n",
       "       [7.23622683e-02, 9.27637732e-01],\n",
       "       [4.89847996e-05, 9.99951015e-01],\n",
       "       [9.97857800e-01, 2.14220048e-03],\n",
       "       [5.05517197e-04, 9.99494483e-01],\n",
       "       [2.66454303e-02, 9.73354570e-01],\n",
       "       [1.18763745e-02, 9.88123626e-01],\n",
       "       [8.98376851e-01, 1.01623149e-01],\n",
       "       [1.43215865e-05, 9.99985678e-01],\n",
       "       [9.99986938e-01, 1.30617052e-05],\n",
       "       [3.81793560e-01, 6.18206440e-01],\n",
       "       [4.30814841e-02, 9.56918516e-01],\n",
       "       [5.89990663e-04, 9.99410009e-01],\n",
       "       [9.74981914e-01, 2.50180856e-02],\n",
       "       [1.24487103e-04, 9.99875513e-01],\n",
       "       [9.96492643e-01, 3.50735734e-03],\n",
       "       [9.99998807e-01, 1.19342767e-06],\n",
       "       [3.31660812e-05, 9.99966834e-01],\n",
       "       [1.24273086e-02, 9.87572691e-01],\n",
       "       [9.99340285e-01, 6.59714729e-04],\n",
       "       [1.31853916e-04, 9.99868146e-01],\n",
       "       [9.96158556e-01, 3.84144406e-03],\n",
       "       [9.64291504e-01, 3.57084957e-02],\n",
       "       [8.53453621e-03, 9.91465464e-01],\n",
       "       [1.97497101e-02, 9.80250290e-01],\n",
       "       [8.54566852e-04, 9.99145433e-01],\n",
       "       [1.90825693e-01, 8.09174307e-01],\n",
       "       [8.49443495e-01, 1.50556505e-01],\n",
       "       [6.11071672e-03, 9.93889283e-01],\n",
       "       [2.11952045e-06, 9.99997880e-01],\n",
       "       [9.99886595e-01, 1.13404724e-04],\n",
       "       [1.29525456e-03, 9.98704745e-01],\n",
       "       [8.59699453e-01, 1.40300547e-01],\n",
       "       [3.20325710e-02, 9.67967429e-01],\n",
       "       [4.78410527e-03, 9.95215895e-01],\n",
       "       [4.41059962e-02, 9.55894004e-01],\n",
       "       [1.00000000e+00, 7.70952351e-13],\n",
       "       [2.80060971e-02, 9.71993903e-01],\n",
       "       [1.00000000e+00, 3.14687044e-10],\n",
       "       [2.66368172e-04, 9.99733632e-01],\n",
       "       [1.87505840e-02, 9.81249416e-01],\n",
       "       [9.99998620e-01, 1.37994549e-06],\n",
       "       [9.99999327e-01, 6.73143603e-07],\n",
       "       [3.32093423e-05, 9.99966791e-01],\n",
       "       [8.44442446e-04, 9.99155558e-01],\n",
       "       [9.99980328e-01, 1.96721757e-05],\n",
       "       [5.41333315e-03, 9.94586667e-01],\n",
       "       [9.99991326e-01, 8.67379667e-06],\n",
       "       [1.00000000e+00, 1.11843242e-10],\n",
       "       [3.52439768e-05, 9.99964756e-01],\n",
       "       [9.99999999e-01, 6.88391807e-10],\n",
       "       [9.99999999e-01, 7.51411615e-10],\n",
       "       [2.32305927e-03, 9.97676941e-01],\n",
       "       [3.62204560e-02, 9.63779544e-01],\n",
       "       [9.99950271e-01, 4.97285220e-05],\n",
       "       [9.99985683e-01, 1.43173405e-05],\n",
       "       [9.99999999e-01, 5.32162092e-10],\n",
       "       [1.48275752e-02, 9.85172425e-01],\n",
       "       [7.13878546e-05, 9.99928612e-01],\n",
       "       [1.48872864e-03, 9.98511271e-01],\n",
       "       [9.92471779e-04, 9.99007528e-01],\n",
       "       [9.98022628e-01, 1.97737160e-03],\n",
       "       [1.77937968e-03, 9.98220620e-01],\n",
       "       [9.98954925e-01, 1.04507468e-03],\n",
       "       [9.99999989e-01, 1.12129190e-08],\n",
       "       [9.99997462e-01, 2.53794620e-06],\n",
       "       [6.34846722e-01, 3.65153278e-01],\n",
       "       [1.48869698e-05, 9.99985113e-01],\n",
       "       [3.03026528e-03, 9.96969735e-01],\n",
       "       [8.98063638e-02, 9.10193636e-01],\n",
       "       [3.00478350e-02, 9.69952165e-01],\n",
       "       [9.81888674e-03, 9.90181113e-01],\n",
       "       [6.60558706e-03, 9.93394413e-01],\n",
       "       [1.24144193e-04, 9.99875856e-01],\n",
       "       [1.72845227e-02, 9.82715477e-01],\n",
       "       [9.99955774e-01, 4.42263204e-05],\n",
       "       [9.99996588e-01, 3.41220857e-06],\n",
       "       [3.71200421e-02, 9.62879958e-01],\n",
       "       [4.10542345e-05, 9.99958946e-01],\n",
       "       [9.99997943e-01, 2.05674092e-06],\n",
       "       [1.24736662e-03, 9.98752633e-01],\n",
       "       [3.35596213e-03, 9.96644038e-01],\n",
       "       [4.65568396e-07, 9.99999534e-01],\n",
       "       [4.52862026e-04, 9.99547138e-01],\n",
       "       [1.09302412e-05, 9.99989070e-01],\n",
       "       [9.99997781e-01, 2.21863377e-06],\n",
       "       [1.24650217e-04, 9.99875350e-01],\n",
       "       [3.48285908e-03, 9.96517141e-01],\n",
       "       [9.99999961e-01, 3.94022305e-08],\n",
       "       [9.99096072e-01, 9.03927595e-04],\n",
       "       [2.30380287e-03, 9.97696197e-01],\n",
       "       [7.90712830e-01, 2.09287170e-01],\n",
       "       [1.50755795e-02, 9.84924420e-01],\n",
       "       [9.99999948e-01, 5.19765585e-08],\n",
       "       [1.59268125e-02, 9.84073188e-01],\n",
       "       [6.30364972e-03, 9.93696350e-01],\n",
       "       [7.03982154e-04, 9.99296018e-01],\n",
       "       [2.54121273e-04, 9.99745879e-01],\n",
       "       [1.08281729e-03, 9.98917183e-01],\n",
       "       [2.22225062e-02, 9.77777494e-01],\n",
       "       [9.99616164e-01, 3.83835597e-04],\n",
       "       [2.14314734e-05, 9.99978569e-01],\n",
       "       [9.58806792e-02, 9.04119321e-01],\n",
       "       [9.98585957e-01, 1.41404257e-03],\n",
       "       [5.25191273e-02, 9.47480873e-01],\n",
       "       [6.59350337e-05, 9.99934065e-01],\n",
       "       [1.36613546e-04, 9.99863386e-01],\n",
       "       [1.72614194e-04, 9.99827386e-01],\n",
       "       [5.29185557e-03, 9.94708144e-01],\n",
       "       [2.64763862e-01, 7.35236138e-01],\n",
       "       [9.99994534e-01, 5.46565088e-06],\n",
       "       [1.36335308e-01, 8.63664692e-01],\n",
       "       [5.86307364e-02, 9.41369264e-01],\n",
       "       [9.38919345e-01, 6.10806554e-02],\n",
       "       [1.13274794e-02, 9.88672521e-01],\n",
       "       [9.96275451e-01, 3.72454873e-03],\n",
       "       [9.65001278e-01, 3.49987223e-02],\n",
       "       [9.99984265e-01, 1.57350492e-05],\n",
       "       [3.87619405e-02, 9.61238060e-01],\n",
       "       [9.95617611e-01, 4.38238925e-03],\n",
       "       [2.65622113e-02, 9.73437789e-01],\n",
       "       [5.37660911e-05, 9.99946234e-01],\n",
       "       [9.99575329e-01, 4.24671091e-04],\n",
       "       [9.99964382e-01, 3.56182317e-05],\n",
       "       [9.99995433e-01, 4.56719689e-06],\n",
       "       [1.12709136e-03, 9.98872909e-01],\n",
       "       [6.70507190e-04, 9.99329493e-01],\n",
       "       [9.86157475e-03, 9.90138425e-01],\n",
       "       [1.61284805e-03, 9.98387152e-01],\n",
       "       [1.65253964e-01, 8.34746036e-01],\n",
       "       [8.82927456e-03, 9.91170725e-01],\n",
       "       [4.67985082e-03, 9.95320149e-01],\n",
       "       [9.99994984e-01, 5.01606616e-06],\n",
       "       [1.11464255e-03, 9.98885357e-01],\n",
       "       [9.31158766e-03, 9.90688412e-01],\n",
       "       [2.60735567e-02, 9.73926443e-01],\n",
       "       [9.98269011e-01, 1.73098929e-03],\n",
       "       [2.54830019e-04, 9.99745170e-01],\n",
       "       [2.85300036e-04, 9.99714700e-01],\n",
       "       [9.62680932e-01, 3.73190681e-02],\n",
       "       [8.55614265e-01, 1.44385735e-01],\n",
       "       [5.92303192e-05, 9.99940770e-01],\n",
       "       [9.99227294e-01, 7.72705558e-04],\n",
       "       [1.84696042e-04, 9.99815304e-01],\n",
       "       [9.99984829e-01, 1.51707597e-05],\n",
       "       [9.99994524e-01, 5.47591470e-06],\n",
       "       [2.55895911e-05, 9.99974410e-01],\n",
       "       [6.16861037e-04, 9.99383139e-01],\n",
       "       [9.99997570e-01, 2.42999440e-06],\n",
       "       [4.77162353e-03, 9.95228376e-01],\n",
       "       [9.99882904e-01, 1.17095816e-04],\n",
       "       [9.99999765e-01, 2.34641484e-07],\n",
       "       [7.02101131e-04, 9.99297899e-01],\n",
       "       [9.97384476e-01, 2.61552442e-03],\n",
       "       [9.66493159e-01, 3.35068411e-02],\n",
       "       [3.32145385e-05, 9.99966785e-01],\n",
       "       [3.88936565e-02, 9.61106343e-01],\n",
       "       [8.37730561e-01, 1.62269439e-01],\n",
       "       [2.23989257e-03, 9.97760107e-01],\n",
       "       [9.31791124e-01, 6.82088762e-02],\n",
       "       [8.48480084e-04, 9.99151520e-01],\n",
       "       [9.48205803e-03, 9.90517942e-01],\n",
       "       [6.30926885e-01, 3.69073115e-01],\n",
       "       [2.25200912e-04, 9.99774799e-01],\n",
       "       [1.08503131e-01, 8.91496869e-01],\n",
       "       [9.93050265e-01, 6.94973548e-03],\n",
       "       [9.99997744e-01, 2.25620585e-06],\n",
       "       [9.99999895e-01, 1.04817245e-07],\n",
       "       [6.90182726e-03, 9.93098173e-01],\n",
       "       [5.82231346e-05, 9.99941777e-01],\n",
       "       [5.98582193e-02, 9.40141781e-01],\n",
       "       [9.99974041e-01, 2.59590562e-05],\n",
       "       [9.99864061e-01, 1.35939262e-04],\n",
       "       [9.42555365e-04, 9.99057445e-01],\n",
       "       [9.99803742e-01, 1.96257510e-04],\n",
       "       [9.99999391e-01, 6.08714323e-07],\n",
       "       [2.92558992e-03, 9.97074410e-01],\n",
       "       [5.47679009e-04, 9.99452321e-01],\n",
       "       [3.29202114e-04, 9.99670798e-01],\n",
       "       [9.99999988e-01, 1.18150485e-08],\n",
       "       [1.06943044e-05, 9.99989306e-01],\n",
       "       [9.99908088e-01, 9.19117643e-05],\n",
       "       [9.99883398e-01, 1.16601675e-04],\n",
       "       [9.99101848e-01, 8.98151843e-04],\n",
       "       [2.33597861e-01, 7.66402139e-01],\n",
       "       [7.91878061e-02, 9.20812194e-01],\n",
       "       [5.40144777e-02, 9.45985522e-01],\n",
       "       [9.98134215e-01, 1.86578548e-03],\n",
       "       [6.39737769e-04, 9.99360262e-01],\n",
       "       [2.68417902e-03, 9.97315821e-01],\n",
       "       [9.97956846e-01, 2.04315351e-03],\n",
       "       [9.99999983e-01, 1.71856306e-08],\n",
       "       [9.67890444e-01, 3.21095556e-02],\n",
       "       [9.99574588e-01, 4.25412366e-04],\n",
       "       [1.51969786e-01, 8.48030214e-01],\n",
       "       [9.95369292e-01, 4.63070788e-03],\n",
       "       [5.30656443e-03, 9.94693436e-01],\n",
       "       [6.04986868e-06, 9.99993950e-01],\n",
       "       [1.80580301e-02, 9.81941970e-01],\n",
       "       [2.83411098e-02, 9.71658890e-01],\n",
       "       [1.13202127e-02, 9.88679787e-01],\n",
       "       [4.77690148e-04, 9.99522310e-01],\n",
       "       [9.19522259e-05, 9.99908048e-01],\n",
       "       [9.99997402e-01, 2.59802297e-06],\n",
       "       [1.00000000e+00, 4.55838464e-12],\n",
       "       [9.82002147e-01, 1.79978526e-02],\n",
       "       [1.00000000e+00, 2.03126033e-16],\n",
       "       [3.12507130e-04, 9.99687493e-01],\n",
       "       [6.54201039e-02, 9.34579896e-01],\n",
       "       [2.20105846e-03, 9.97798942e-01],\n",
       "       [1.24209135e-01, 8.75790865e-01],\n",
       "       [1.00000000e+00, 4.28652316e-22],\n",
       "       [3.73646152e-01, 6.26353848e-01],\n",
       "       [9.85433455e-01, 1.45665450e-02],\n",
       "       [1.30621498e-04, 9.99869379e-01],\n",
       "       [2.12117075e-04, 9.99787883e-01],\n",
       "       [4.59161370e-04, 9.99540839e-01],\n",
       "       [1.36801581e-02, 9.86319842e-01],\n",
       "       [4.16177689e-02, 9.58382231e-01],\n",
       "       [9.96878360e-01, 3.12163993e-03],\n",
       "       [9.99782045e-01, 2.17955271e-04],\n",
       "       [9.59699384e-01, 4.03006157e-02],\n",
       "       [9.82570843e-05, 9.99901743e-01],\n",
       "       [7.94877047e-04, 9.99205123e-01],\n",
       "       [8.46319564e-01, 1.53680436e-01],\n",
       "       [1.29031496e-01, 8.70968504e-01],\n",
       "       [1.86385702e-04, 9.99813614e-01],\n",
       "       [9.99997458e-01, 2.54247036e-06],\n",
       "       [9.88633045e-01, 1.13669548e-02],\n",
       "       [9.99898994e-01, 1.01006419e-04],\n",
       "       [9.99830993e-01, 1.69006964e-04],\n",
       "       [1.03814890e-03, 9.98961851e-01],\n",
       "       [2.33342784e-02, 9.76665722e-01],\n",
       "       [6.31866123e-01, 3.68133877e-01],\n",
       "       [9.99305236e-01, 6.94764482e-04],\n",
       "       [7.15779645e-02, 9.28422036e-01],\n",
       "       [1.74385399e-02, 9.82561460e-01],\n",
       "       [9.34388176e-03, 9.90656118e-01],\n",
       "       [9.99999855e-01, 1.44637295e-07],\n",
       "       [7.41230534e-01, 2.58769466e-01],\n",
       "       [1.00000000e+00, 2.33019541e-11],\n",
       "       [3.35726268e-06, 9.99996643e-01],\n",
       "       [1.27370164e-04, 9.99872630e-01],\n",
       "       [6.49474582e-01, 3.50525418e-01],\n",
       "       [3.76958995e-05, 9.99962304e-01],\n",
       "       [4.45281815e-04, 9.99554718e-01],\n",
       "       [1.04788446e-04, 9.99895212e-01],\n",
       "       [9.56636621e-06, 9.99990434e-01],\n",
       "       [9.99999998e-01, 1.83948105e-09],\n",
       "       [9.32018386e-02, 9.06798161e-01],\n",
       "       [7.95824178e-02, 9.20417582e-01],\n",
       "       [1.29508513e-04, 9.99870491e-01],\n",
       "       [1.19333193e-02, 9.88066681e-01],\n",
       "       [1.26709431e-04, 9.99873291e-01],\n",
       "       [7.36665197e-03, 9.92633348e-01],\n",
       "       [5.65939720e-05, 9.99943406e-01],\n",
       "       [2.49618035e-04, 9.99750382e-01],\n",
       "       [9.95231645e-05, 9.99900477e-01],\n",
       "       [9.99999769e-01, 2.30714776e-07],\n",
       "       [2.15588758e-05, 9.99978441e-01],\n",
       "       [1.56736136e-05, 9.99984326e-01],\n",
       "       [1.03348284e-03, 9.98966517e-01],\n",
       "       [2.83102824e-02, 9.71689718e-01],\n",
       "       [2.23258947e-05, 9.99977674e-01],\n",
       "       [2.36111860e-03, 9.97638881e-01],\n",
       "       [8.71117626e-01, 1.28882374e-01],\n",
       "       [5.44644440e-01, 4.55355560e-01],\n",
       "       [1.18838827e-01, 8.81161173e-01],\n",
       "       [9.99998953e-01, 1.04703270e-06],\n",
       "       [4.06933254e-05, 9.99959307e-01],\n",
       "       [4.93035978e-04, 9.99506964e-01],\n",
       "       [6.93319371e-01, 3.06680629e-01],\n",
       "       [9.98821668e-01, 1.17833240e-03],\n",
       "       [9.99998030e-01, 1.96957512e-06],\n",
       "       [1.50646233e-02, 9.84935377e-01],\n",
       "       [9.64555916e-01, 3.54440841e-02],\n",
       "       [9.96568289e-01, 3.43171079e-03],\n",
       "       [2.01107570e-01, 7.98892430e-01],\n",
       "       [9.99910908e-01, 8.90920243e-05],\n",
       "       [2.20158168e-03, 9.97798418e-01],\n",
       "       [2.21630612e-08, 9.99999978e-01],\n",
       "       [1.29855189e-01, 8.70144811e-01],\n",
       "       [1.24999155e-04, 9.99875001e-01],\n",
       "       [9.79100616e-01, 2.08993836e-02],\n",
       "       [9.95192863e-03, 9.90048071e-01]])"
      ]
     },
     "execution_count": 118,
     "metadata": {},
     "output_type": "execute_result"
    }
   ],
   "source": [
    "# your code here\n",
    "y_hat_trained_proba = lr.predict_proba(X_train_scaled)\n",
    "y_hat_trained_proba\n",
    "# left is probability of 0 and probability of 1 is on right sdide"
   ]
  },
  {
   "cell_type": "code",
   "execution_count": 120,
   "metadata": {},
   "outputs": [
    {
     "data": {
      "text/plain": [
       "array([9.99968681e-01, 2.86372729e-03, 9.99269608e-01, 3.72508743e-06,\n",
       "       1.56225670e-06, 3.12407064e-01, 9.99821120e-01, 5.70673632e-02,\n",
       "       9.99859132e-01, 9.99990745e-01, 9.75398786e-01, 9.99178294e-01,\n",
       "       6.18453263e-13, 1.13427902e-04, 9.99964009e-01, 9.90780240e-01,\n",
       "       9.99982238e-01, 9.99999939e-01, 9.99567184e-01, 9.99815711e-01,\n",
       "       9.97570884e-01, 7.33803170e-02, 9.99036228e-01, 9.99105247e-01,\n",
       "       6.83299028e-01, 9.99979683e-01, 1.74319982e-02, 9.81099838e-01,\n",
       "       9.98772191e-01, 9.99150500e-01, 9.26665623e-01, 9.97609453e-01,\n",
       "       9.66511224e-01, 1.20477289e-01, 9.63918963e-01, 9.97954196e-01,\n",
       "       9.81301874e-01, 9.16866033e-01, 9.26851529e-01, 9.99556534e-01,\n",
       "       1.11925633e-02, 1.92824524e-04, 4.27388391e-02, 4.92050840e-01,\n",
       "       9.28192270e-01, 6.31052182e-03, 9.99001091e-01, 2.32228401e-07,\n",
       "       9.90446033e-01, 9.98741496e-01, 9.99981203e-01, 9.99405499e-01,\n",
       "       3.23840169e-02, 7.72854562e-01, 9.99907632e-01, 1.28940353e-06,\n",
       "       9.99888585e-01, 9.94191644e-01, 9.99773131e-01, 1.97749525e-07,\n",
       "       9.97961564e-01, 7.30704357e-08, 4.99824817e-07, 9.99855756e-01,\n",
       "       9.98451394e-01, 8.95755797e-01, 2.82060525e-02, 9.99942911e-01,\n",
       "       9.99980201e-01, 9.99718171e-01, 9.99995017e-01, 2.73467924e-03,\n",
       "       9.99934318e-01, 9.98844112e-01, 9.99996553e-01, 9.99832979e-01,\n",
       "       9.99984941e-01, 4.23801883e-03, 8.90508368e-01, 2.45478133e-08,\n",
       "       1.41766671e-05, 9.95312337e-01, 9.98861009e-01, 4.39354932e-09,\n",
       "       9.96842264e-01, 9.99999485e-01, 9.70993120e-01, 9.86634644e-01,\n",
       "       9.43187226e-01, 9.98402819e-01, 9.98478506e-01, 1.71641041e-01,\n",
       "       2.47545977e-03, 1.03984997e-12, 9.99969995e-01, 9.86587243e-01,\n",
       "       3.14427713e-08, 9.96356973e-01, 9.97399797e-01, 3.87054546e-04,\n",
       "       9.95988148e-01, 5.19045685e-02, 9.99997592e-01, 2.25526395e-06,\n",
       "       9.99183188e-01, 5.79183104e-01, 9.99212725e-01, 7.46566593e-01,\n",
       "       3.29996443e-03, 9.92533324e-01, 9.99857836e-01, 9.67310448e-01,\n",
       "       6.84704408e-04, 9.91643722e-01, 5.84589423e-06, 7.76786395e-01,\n",
       "       3.63103206e-04, 9.98767371e-01, 1.95294072e-02, 9.99908667e-01,\n",
       "       6.84661699e-01, 1.40420717e-04, 9.12778878e-01, 9.99999511e-01,\n",
       "       9.99822778e-01, 9.99510941e-01, 1.13294366e-01, 8.79644183e-01,\n",
       "       9.98518264e-01, 9.98086105e-01, 4.30011261e-07, 6.77774126e-01,\n",
       "       9.96496513e-01, 1.64974681e-02, 9.69407396e-01, 9.99977050e-01,\n",
       "       8.52081541e-08, 9.99294313e-01, 9.99918884e-01, 9.97619277e-01,\n",
       "       9.93877815e-01, 9.97562549e-01, 9.27637732e-01, 9.99951015e-01,\n",
       "       2.14220048e-03, 9.99494483e-01, 9.73354570e-01, 9.88123626e-01,\n",
       "       1.01623149e-01, 9.99985678e-01, 1.30617052e-05, 6.18206440e-01,\n",
       "       9.56918516e-01, 9.99410009e-01, 2.50180856e-02, 9.99875513e-01,\n",
       "       3.50735734e-03, 1.19342767e-06, 9.99966834e-01, 9.87572691e-01,\n",
       "       6.59714729e-04, 9.99868146e-01, 3.84144406e-03, 3.57084957e-02,\n",
       "       9.91465464e-01, 9.80250290e-01, 9.99145433e-01, 8.09174307e-01,\n",
       "       1.50556505e-01, 9.93889283e-01, 9.99997880e-01, 1.13404724e-04,\n",
       "       9.98704745e-01, 1.40300547e-01, 9.67967429e-01, 9.95215895e-01,\n",
       "       9.55894004e-01, 7.70952351e-13, 9.71993903e-01, 3.14687044e-10,\n",
       "       9.99733632e-01, 9.81249416e-01, 1.37994549e-06, 6.73143603e-07,\n",
       "       9.99966791e-01, 9.99155558e-01, 1.96721757e-05, 9.94586667e-01,\n",
       "       8.67379667e-06, 1.11843242e-10, 9.99964756e-01, 6.88391807e-10,\n",
       "       7.51411615e-10, 9.97676941e-01, 9.63779544e-01, 4.97285220e-05,\n",
       "       1.43173405e-05, 5.32162092e-10, 9.85172425e-01, 9.99928612e-01,\n",
       "       9.98511271e-01, 9.99007528e-01, 1.97737160e-03, 9.98220620e-01,\n",
       "       1.04507468e-03, 1.12129190e-08, 2.53794620e-06, 3.65153278e-01,\n",
       "       9.99985113e-01, 9.96969735e-01, 9.10193636e-01, 9.69952165e-01,\n",
       "       9.90181113e-01, 9.93394413e-01, 9.99875856e-01, 9.82715477e-01,\n",
       "       4.42263204e-05, 3.41220857e-06, 9.62879958e-01, 9.99958946e-01,\n",
       "       2.05674092e-06, 9.98752633e-01, 9.96644038e-01, 9.99999534e-01,\n",
       "       9.99547138e-01, 9.99989070e-01, 2.21863377e-06, 9.99875350e-01,\n",
       "       9.96517141e-01, 3.94022305e-08, 9.03927595e-04, 9.97696197e-01,\n",
       "       2.09287170e-01, 9.84924420e-01, 5.19765585e-08, 9.84073188e-01,\n",
       "       9.93696350e-01, 9.99296018e-01, 9.99745879e-01, 9.98917183e-01,\n",
       "       9.77777494e-01, 3.83835597e-04, 9.99978569e-01, 9.04119321e-01,\n",
       "       1.41404257e-03, 9.47480873e-01, 9.99934065e-01, 9.99863386e-01,\n",
       "       9.99827386e-01, 9.94708144e-01, 7.35236138e-01, 5.46565088e-06,\n",
       "       8.63664692e-01, 9.41369264e-01, 6.10806554e-02, 9.88672521e-01,\n",
       "       3.72454873e-03, 3.49987223e-02, 1.57350492e-05, 9.61238060e-01,\n",
       "       4.38238925e-03, 9.73437789e-01, 9.99946234e-01, 4.24671091e-04,\n",
       "       3.56182317e-05, 4.56719689e-06, 9.98872909e-01, 9.99329493e-01,\n",
       "       9.90138425e-01, 9.98387152e-01, 8.34746036e-01, 9.91170725e-01,\n",
       "       9.95320149e-01, 5.01606616e-06, 9.98885357e-01, 9.90688412e-01,\n",
       "       9.73926443e-01, 1.73098929e-03, 9.99745170e-01, 9.99714700e-01,\n",
       "       3.73190681e-02, 1.44385735e-01, 9.99940770e-01, 7.72705558e-04,\n",
       "       9.99815304e-01, 1.51707597e-05, 5.47591470e-06, 9.99974410e-01,\n",
       "       9.99383139e-01, 2.42999440e-06, 9.95228376e-01, 1.17095816e-04,\n",
       "       2.34641484e-07, 9.99297899e-01, 2.61552442e-03, 3.35068411e-02,\n",
       "       9.99966785e-01, 9.61106343e-01, 1.62269439e-01, 9.97760107e-01,\n",
       "       6.82088762e-02, 9.99151520e-01, 9.90517942e-01, 3.69073115e-01,\n",
       "       9.99774799e-01, 8.91496869e-01, 6.94973548e-03, 2.25620585e-06,\n",
       "       1.04817245e-07, 9.93098173e-01, 9.99941777e-01, 9.40141781e-01,\n",
       "       2.59590562e-05, 1.35939262e-04, 9.99057445e-01, 1.96257510e-04,\n",
       "       6.08714323e-07, 9.97074410e-01, 9.99452321e-01, 9.99670798e-01,\n",
       "       1.18150485e-08, 9.99989306e-01, 9.19117643e-05, 1.16601675e-04,\n",
       "       8.98151843e-04, 7.66402139e-01, 9.20812194e-01, 9.45985522e-01,\n",
       "       1.86578548e-03, 9.99360262e-01, 9.97315821e-01, 2.04315351e-03,\n",
       "       1.71856306e-08, 3.21095556e-02, 4.25412366e-04, 8.48030214e-01,\n",
       "       4.63070788e-03, 9.94693436e-01, 9.99993950e-01, 9.81941970e-01,\n",
       "       9.71658890e-01, 9.88679787e-01, 9.99522310e-01, 9.99908048e-01,\n",
       "       2.59802297e-06, 4.55838464e-12, 1.79978526e-02, 2.03126033e-16,\n",
       "       9.99687493e-01, 9.34579896e-01, 9.97798942e-01, 8.75790865e-01,\n",
       "       4.28652316e-22, 6.26353848e-01, 1.45665450e-02, 9.99869379e-01,\n",
       "       9.99787883e-01, 9.99540839e-01, 9.86319842e-01, 9.58382231e-01,\n",
       "       3.12163993e-03, 2.17955271e-04, 4.03006157e-02, 9.99901743e-01,\n",
       "       9.99205123e-01, 1.53680436e-01, 8.70968504e-01, 9.99813614e-01,\n",
       "       2.54247036e-06, 1.13669548e-02, 1.01006419e-04, 1.69006964e-04,\n",
       "       9.98961851e-01, 9.76665722e-01, 3.68133877e-01, 6.94764482e-04,\n",
       "       9.28422036e-01, 9.82561460e-01, 9.90656118e-01, 1.44637295e-07,\n",
       "       2.58769466e-01, 2.33019541e-11, 9.99996643e-01, 9.99872630e-01,\n",
       "       3.50525418e-01, 9.99962304e-01, 9.99554718e-01, 9.99895212e-01,\n",
       "       9.99990434e-01, 1.83948105e-09, 9.06798161e-01, 9.20417582e-01,\n",
       "       9.99870491e-01, 9.88066681e-01, 9.99873291e-01, 9.92633348e-01,\n",
       "       9.99943406e-01, 9.99750382e-01, 9.99900477e-01, 2.30714776e-07,\n",
       "       9.99978441e-01, 9.99984326e-01, 9.98966517e-01, 9.71689718e-01,\n",
       "       9.99977674e-01, 9.97638881e-01, 1.28882374e-01, 4.55355560e-01,\n",
       "       8.81161173e-01, 1.04703270e-06, 9.99959307e-01, 9.99506964e-01,\n",
       "       3.06680629e-01, 1.17833240e-03, 1.96957512e-06, 9.84935377e-01,\n",
       "       3.54440841e-02, 3.43171079e-03, 7.98892430e-01, 8.90920243e-05,\n",
       "       9.97798418e-01, 9.99999978e-01, 8.70144811e-01, 9.99875001e-01,\n",
       "       2.08993836e-02, 9.90048071e-01])"
      ]
     },
     "execution_count": 120,
     "metadata": {},
     "output_type": "execute_result"
    }
   ],
   "source": [
    "y_hat_trained_proba_1 = lr.predict_proba(X_train_scaled)[:,1]\n",
    "y_hat_trained_proba_1"
   ]
  },
  {
   "cell_type": "code",
   "execution_count": 123,
   "metadata": {},
   "outputs": [
    {
     "data": {
      "text/plain": [
       "0.9972369166824107"
      ]
     },
     "execution_count": 123,
     "metadata": {},
     "output_type": "execute_result"
    }
   ],
   "source": [
    "from sklearn.metrics import roc_auc_score\n",
    "roc_auc_score(y_train, y_hat_trained_proba_1)\n"
   ]
  },
  {
   "cell_type": "markdown",
   "metadata": {},
   "source": [
    "Now, using those probabilities, create two arrays, one which converts the probabilities to label predictions using the default threshold, and one using a threshold of .4.  How does it affect our metrics?"
   ]
  },
  {
   "cell_type": "code",
   "execution_count": 124,
   "metadata": {},
   "outputs": [
    {
     "data": {
      "text/plain": [
       "<sklearn.metrics._plot.roc_curve.RocCurveDisplay at 0x26a1a4e90d0>"
      ]
     },
     "execution_count": 124,
     "metadata": {},
     "output_type": "execute_result"
    },
    {
     "data": {
      "image/png": "[encoded data removed]",
      "text/plain": [
       "<Figure size 432x288 with 1 Axes>"
      ]
     },
     "metadata": {
      "needs_background": "light"
     },
     "output_type": "display_data"
    }
   ],
   "source": [
    "# Plot the AUC_ROC curve for our classifier\n",
    "from sklearn.metrics import plot_roc_curve\n",
    "plot_roc_curve(lr, X_train_scaled, y_train)"
   ]
  },
  {
   "cell_type": "markdown",
   "metadata": {},
   "source": [
    "<a id='algos'></a>"
   ]
  },
  {
   "cell_type": "code",
   "execution_count": 126,
   "metadata": {},
   "outputs": [
    {
     "data": {
      "text/plain": [
       "((156, 270), (154, 272))"
      ]
     },
     "execution_count": 126,
     "metadata": {},
     "output_type": "execute_result"
    }
   ],
   "source": [
    "def prob_threshold(array, threshold):\n",
    "    zeros = []\n",
    "    ones = []\n",
    "    for x in array:\n",
    "        if x[1] >= threshold:\n",
    "            ones.append(1)\n",
    "        else:\n",
    "            zeros.append(0)\n",
    "    return len(zeros), len(ones)\n",
    "\n",
    "pp = lr.predict_proba(X_train_scaled)\n",
    "\n",
    "prob_threshold(pp, .5), prob_threshold(pp, .4)\n"
   ]
  },
  {
   "cell_type": "markdown",
   "metadata": {},
   "source": [
    "# More Algorithms"
   ]
  },
  {
   "cell_type": "markdown",
   "metadata": {},
   "source": [
    "Much of the sklearn syntax is shared across classifiers and regressors.  Fit, predict, score, and more are methods associated with all sklearn classifiers.  They work differently under the hood. KNN's fit method simply stores the training set in memory. Logistic regressions .fit() does the hard work of calculating coefficients. \n",
    "\n",
    "![lazy_george](https://media.giphy.com/media/8TJK6prvRXF6g/giphy.gif)\n",
    "\n",
    "However, each algo also has specific parameters and methods associated with it.  For example, decision trees have feature importances and logistic has coefficients. KNN has n_neighbors and decision trees has max_depth.\n"
   ]
  },
  {
   "cell_type": "markdown",
   "metadata": {},
   "source": [
    "Getting to know the algo's and their associated properties is an important area of study. \n",
    "\n",
    "That being said, you now are getting to the point that no matter which algorithm you choose, you can run the code to create a model as long as you have the data in the correct shape. Most importantly, the target is the appropriate form (continuous/categorical) and is isolated from the predictors."
   ]
  },
  {
   "cell_type": "markdown",
   "metadata": {},
   "source": [
    "Here are the algos we know so far. \n",
    " - Linear Regression\n",
    " - Lasso/Ridge Regression\n",
    " - Logistic Regression\n",
    " - Naive-Bayes\n",
    " - KNN\n",
    " - Decision Trees\n",
    " \n",
    "> Note that KNN and decision trees also have regression classes in sklearn.\n"
   ]
  },
  {
   "cell_type": "markdown",
   "metadata": {},
   "source": [
    "Here are two datasets from seaborn and sklearn.  Let's work through the process of creating simple models for each."
   ]
  },
  {
   "cell_type": "code",
   "execution_count": 217,
   "metadata": {},
   "outputs": [
    {
     "data": {
      "text/html": [
       "<div>\n",
       "<style scoped>\n",
       "    .dataframe tbody tr th:only-of-type {\n",
       "        vertical-align: middle;\n",
       "    }\n",
       "\n",
       "    .dataframe tbody tr th {\n",
       "        vertical-align: top;\n",
       "    }\n",
       "\n",
       "    .dataframe thead th {\n",
       "        text-align: right;\n",
       "    }\n",
       "</style>\n",
       "<table border=\"1\" class=\"dataframe\">\n",
       "  <thead>\n",
       "    <tr style=\"text-align: right;\">\n",
       "      <th></th>\n",
       "      <th>species</th>\n",
       "      <th>island</th>\n",
       "      <th>bill_length_mm</th>\n",
       "      <th>bill_depth_mm</th>\n",
       "      <th>flipper_length_mm</th>\n",
       "      <th>body_mass_g</th>\n",
       "      <th>sex</th>\n",
       "    </tr>\n",
       "  </thead>\n",
       "  <tbody>\n",
       "    <tr>\n",
       "      <th>0</th>\n",
       "      <td>Adelie</td>\n",
       "      <td>Torgersen</td>\n",
       "      <td>39.1</td>\n",
       "      <td>18.7</td>\n",
       "      <td>181.0</td>\n",
       "      <td>3750.0</td>\n",
       "      <td>Male</td>\n",
       "    </tr>\n",
       "    <tr>\n",
       "      <th>1</th>\n",
       "      <td>Adelie</td>\n",
       "      <td>Torgersen</td>\n",
       "      <td>39.5</td>\n",
       "      <td>17.4</td>\n",
       "      <td>186.0</td>\n",
       "      <td>3800.0</td>\n",
       "      <td>Female</td>\n",
       "    </tr>\n",
       "    <tr>\n",
       "      <th>2</th>\n",
       "      <td>Adelie</td>\n",
       "      <td>Torgersen</td>\n",
       "      <td>40.3</td>\n",
       "      <td>18.0</td>\n",
       "      <td>195.0</td>\n",
       "      <td>3250.0</td>\n",
       "      <td>Female</td>\n",
       "    </tr>\n",
       "    <tr>\n",
       "      <th>3</th>\n",
       "      <td>Adelie</td>\n",
       "      <td>Torgersen</td>\n",
       "      <td>NaN</td>\n",
       "      <td>NaN</td>\n",
       "      <td>NaN</td>\n",
       "      <td>NaN</td>\n",
       "      <td>NaN</td>\n",
       "    </tr>\n",
       "    <tr>\n",
       "      <th>4</th>\n",
       "      <td>Adelie</td>\n",
       "      <td>Torgersen</td>\n",
       "      <td>36.7</td>\n",
       "      <td>19.3</td>\n",
       "      <td>193.0</td>\n",
       "      <td>3450.0</td>\n",
       "      <td>Female</td>\n",
       "    </tr>\n",
       "  </tbody>\n",
       "</table>\n",
       "</div>"
      ],
      "text/plain": [
       "  species     island  bill_length_mm  bill_depth_mm  flipper_length_mm  \\\n",
       "0  Adelie  Torgersen            39.1           18.7              181.0   \n",
       "1  Adelie  Torgersen            39.5           17.4              186.0   \n",
       "2  Adelie  Torgersen            40.3           18.0              195.0   \n",
       "3  Adelie  Torgersen             NaN            NaN                NaN   \n",
       "4  Adelie  Torgersen            36.7           19.3              193.0   \n",
       "\n",
       "   body_mass_g     sex  \n",
       "0       3750.0    Male  \n",
       "1       3800.0  Female  \n",
       "2       3250.0  Female  \n",
       "3          NaN     NaN  \n",
       "4       3450.0  Female  "
      ]
     },
     "execution_count": 217,
     "metadata": {},
     "output_type": "execute_result"
    }
   ],
   "source": [
    "import seaborn as sns\n",
    "penguins = sns.load_dataset('penguins')\n",
    "penguins.head()"
   ]
  },
  {
   "cell_type": "code",
   "execution_count": 218,
   "metadata": {},
   "outputs": [],
   "source": [
    "penguins.dropna(inplace=True)"
   ]
  },
  {
   "cell_type": "code",
   "execution_count": 219,
   "metadata": {},
   "outputs": [
    {
     "data": {
      "text/plain": [
       "Male      168\n",
       "Female    165\n",
       "Name: sex, dtype: int64"
      ]
     },
     "execution_count": 219,
     "metadata": {},
     "output_type": "execute_result"
    }
   ],
   "source": [
    "penguins['sex'].value_counts()"
   ]
  },
  {
   "cell_type": "markdown",
   "metadata": {},
   "source": [
    "Question: What algorithm would be appropriate based on the target"
   ]
  },
  {
   "cell_type": "code",
   "execution_count": 220,
   "metadata": {},
   "outputs": [],
   "source": [
    "# split target from predictors logistic regression\n",
    "X = penguins.drop(['sex', 'species', 'island'], axis=1)\n",
    "y = penguins['sex']"
   ]
  },
  {
   "cell_type": "code",
   "execution_count": null,
   "metadata": {},
   "outputs": [],
   "source": []
  },
  {
   "cell_type": "code",
   "execution_count": 221,
   "metadata": {},
   "outputs": [],
   "source": [
    "X_train, X_test, y_train, y_test = train_test_split(X,y, random_state=42)"
   ]
  },
  {
   "cell_type": "markdown",
   "metadata": {},
   "source": [
    "For the first simple model, let's just use the numeric predictors."
   ]
  },
  {
   "cell_type": "code",
   "execution_count": 222,
   "metadata": {},
   "outputs": [
    {
     "data": {
      "text/html": [
       "<div>\n",
       "<style scoped>\n",
       "    .dataframe tbody tr th:only-of-type {\n",
       "        vertical-align: middle;\n",
       "    }\n",
       "\n",
       "    .dataframe tbody tr th {\n",
       "        vertical-align: top;\n",
       "    }\n",
       "\n",
       "    .dataframe thead th {\n",
       "        text-align: right;\n",
       "    }\n",
       "</style>\n",
       "<table border=\"1\" class=\"dataframe\">\n",
       "  <thead>\n",
       "    <tr style=\"text-align: right;\">\n",
       "      <th></th>\n",
       "      <th>bill_length_mm</th>\n",
       "      <th>bill_depth_mm</th>\n",
       "      <th>flipper_length_mm</th>\n",
       "      <th>body_mass_g</th>\n",
       "    </tr>\n",
       "  </thead>\n",
       "  <tbody>\n",
       "    <tr>\n",
       "      <th>321</th>\n",
       "      <td>55.9</td>\n",
       "      <td>17.0</td>\n",
       "      <td>228.0</td>\n",
       "      <td>5600.0</td>\n",
       "    </tr>\n",
       "    <tr>\n",
       "      <th>265</th>\n",
       "      <td>43.6</td>\n",
       "      <td>13.9</td>\n",
       "      <td>217.0</td>\n",
       "      <td>4900.0</td>\n",
       "    </tr>\n",
       "    <tr>\n",
       "      <th>36</th>\n",
       "      <td>38.8</td>\n",
       "      <td>20.0</td>\n",
       "      <td>190.0</td>\n",
       "      <td>3950.0</td>\n",
       "    </tr>\n",
       "    <tr>\n",
       "      <th>308</th>\n",
       "      <td>47.5</td>\n",
       "      <td>14.0</td>\n",
       "      <td>212.0</td>\n",
       "      <td>4875.0</td>\n",
       "    </tr>\n",
       "    <tr>\n",
       "      <th>191</th>\n",
       "      <td>53.5</td>\n",
       "      <td>19.9</td>\n",
       "      <td>205.0</td>\n",
       "      <td>4500.0</td>\n",
       "    </tr>\n",
       "    <tr>\n",
       "      <th>...</th>\n",
       "      <td>...</td>\n",
       "      <td>...</td>\n",
       "      <td>...</td>\n",
       "      <td>...</td>\n",
       "    </tr>\n",
       "    <tr>\n",
       "      <th>194</th>\n",
       "      <td>50.9</td>\n",
       "      <td>19.1</td>\n",
       "      <td>196.0</td>\n",
       "      <td>3550.0</td>\n",
       "    </tr>\n",
       "    <tr>\n",
       "      <th>77</th>\n",
       "      <td>37.2</td>\n",
       "      <td>19.4</td>\n",
       "      <td>184.0</td>\n",
       "      <td>3900.0</td>\n",
       "    </tr>\n",
       "    <tr>\n",
       "      <th>112</th>\n",
       "      <td>39.7</td>\n",
       "      <td>17.7</td>\n",
       "      <td>193.0</td>\n",
       "      <td>3200.0</td>\n",
       "    </tr>\n",
       "    <tr>\n",
       "      <th>277</th>\n",
       "      <td>45.5</td>\n",
       "      <td>15.0</td>\n",
       "      <td>220.0</td>\n",
       "      <td>5000.0</td>\n",
       "    </tr>\n",
       "    <tr>\n",
       "      <th>108</th>\n",
       "      <td>38.1</td>\n",
       "      <td>17.0</td>\n",
       "      <td>181.0</td>\n",
       "      <td>3175.0</td>\n",
       "    </tr>\n",
       "  </tbody>\n",
       "</table>\n",
       "<p>249 rows × 4 columns</p>\n",
       "</div>"
      ],
      "text/plain": [
       "     bill_length_mm  bill_depth_mm  flipper_length_mm  body_mass_g\n",
       "321            55.9           17.0              228.0       5600.0\n",
       "265            43.6           13.9              217.0       4900.0\n",
       "36             38.8           20.0              190.0       3950.0\n",
       "308            47.5           14.0              212.0       4875.0\n",
       "191            53.5           19.9              205.0       4500.0\n",
       "..              ...            ...                ...          ...\n",
       "194            50.9           19.1              196.0       3550.0\n",
       "77             37.2           19.4              184.0       3900.0\n",
       "112            39.7           17.7              193.0       3200.0\n",
       "277            45.5           15.0              220.0       5000.0\n",
       "108            38.1           17.0              181.0       3175.0\n",
       "\n",
       "[249 rows x 4 columns]"
      ]
     },
     "execution_count": 222,
     "metadata": {},
     "output_type": "execute_result"
    }
   ],
   "source": [
    "# isolate numeric predictors\n",
    "X_train_numeric = X_train[['bill_length_mm', 'bill_depth_mm', 'flipper_length_mm', 'body_mass_g']]\n",
    "X_train_numeric"
   ]
  },
  {
   "cell_type": "code",
   "execution_count": 236,
   "metadata": {
    "scrolled": true
   },
   "outputs": [],
   "source": [
    "# Scale appropriately\n",
    "from sklearn.preprocessing import StandardScaler\n",
    "ss = StandardScaler()\n",
    "scaled_numeric_x_train = ss.fit_transform(X_train_numeric)\n",
    "X_test_scaled = ss.transform(X_test)"
   ]
  },
  {
   "cell_type": "code",
   "execution_count": 237,
   "metadata": {},
   "outputs": [],
   "source": [
    "scaled_numeric_x_train = pd.DataFrame(scaled_numeric_x, index=X_train_numeric.index, columns=X_train_numeric.columns)"
   ]
  },
  {
   "cell_type": "code",
   "execution_count": 238,
   "metadata": {},
   "outputs": [
    {
     "data": {
      "text/plain": [
       "LogisticRegression()"
      ]
     },
     "execution_count": 238,
     "metadata": {},
     "output_type": "execute_result"
    }
   ],
   "source": [
    "# instantiate appropriate model and fit to appropriate part of data.\n",
    "lr1 = LogisticRegression()\n",
    "lr1.fit(scaled_numeric_x_train, y_train)"
   ]
  },
  {
   "cell_type": "code",
   "execution_count": 239,
   "metadata": {},
   "outputs": [],
   "source": [
    "# Create a set of predictions\n",
    "\n",
    "y_hat_train = lr1.predict(scaled_numeric_x_train)\n",
    "y_hat_test = lr1.predict(X_test_scaled)\n"
   ]
  },
  {
   "cell_type": "code",
   "execution_count": 240,
   "metadata": {},
   "outputs": [
    {
     "data": {
      "text/plain": [
       "array(['Female', 'Female', 'Male', 'Female', 'Male', 'Female', 'Male',\n",
       "       'Male', 'Male', 'Male', 'Male', 'Male', 'Female', 'Female',\n",
       "       'Female', 'Female', 'Female', 'Female', 'Male', 'Female', 'Male',\n",
       "       'Female', 'Male', 'Male', 'Female', 'Female', 'Female', 'Female',\n",
       "       'Male', 'Male', 'Female', 'Male', 'Male', 'Female', 'Male',\n",
       "       'Female', 'Male', 'Female', 'Female', 'Female', 'Female', 'Female',\n",
       "       'Female', 'Female', 'Female', 'Female', 'Male', 'Male', 'Male',\n",
       "       'Female', 'Female', 'Male', 'Female', 'Female', 'Male', 'Male',\n",
       "       'Female', 'Male', 'Male', 'Male', 'Male', 'Male', 'Female', 'Male',\n",
       "       'Male', 'Male', 'Female', 'Female', 'Female', 'Male', 'Male',\n",
       "       'Male', 'Male', 'Female', 'Female', 'Male', 'Male', 'Male',\n",
       "       'Female', 'Male', 'Female', 'Male', 'Female', 'Male'], dtype=object)"
      ]
     },
     "execution_count": 240,
     "metadata": {},
     "output_type": "execute_result"
    }
   ],
   "source": [
    "y_hat_test"
   ]
  },
  {
   "cell_type": "code",
   "execution_count": 241,
   "metadata": {},
   "outputs": [
    {
     "name": "stdout",
     "output_type": "stream",
     "text": [
      "              precision    recall  f1-score   support\n",
      "\n",
      "      Female       0.90      0.84      0.87        45\n",
      "        Male       0.83      0.90      0.86        39\n",
      "\n",
      "    accuracy                           0.87        84\n",
      "   macro avg       0.87      0.87      0.87        84\n",
      "weighted avg       0.87      0.87      0.87        84\n",
      "\n"
     ]
    }
   ],
   "source": [
    "# Create and analyze appropriate metrics\n",
    "print(classification_report(y_test, y_hat_test))"
   ]
  },
  {
   "cell_type": "code",
   "execution_count": 242,
   "metadata": {},
   "outputs": [],
   "source": [
    "lr1_proba = lr1.predict_proba(X_test_scaled)[:,1]"
   ]
  },
  {
   "cell_type": "code",
   "execution_count": 243,
   "metadata": {},
   "outputs": [],
   "source": [
    "from sklearn.datasets import load_boston\n",
    "data = load_boston()\n",
    "X = pd.DataFrame(data['data'], columns = data['feature_names'])\n",
    "y = data['target']"
   ]
  },
  {
   "cell_type": "markdown",
   "metadata": {},
   "source": [
    "Question: What algorithm would be appropriate based on the target?"
   ]
  },
  {
   "cell_type": "code",
   "execution_count": 244,
   "metadata": {},
   "outputs": [],
   "source": [
    "# split target from predictors\n",
    "X_train, X_test, y_train, y_test = train_test_split(X,y, random_state=42)"
   ]
  },
  {
   "cell_type": "markdown",
   "metadata": {},
   "source": [
    "For the first simple model, let's just use the numeric predictors."
   ]
  },
  {
   "cell_type": "code",
   "execution_count": 245,
   "metadata": {},
   "outputs": [],
   "source": [
    "# isolate numeric predictors"
   ]
  },
  {
   "cell_type": "code",
   "execution_count": 246,
   "metadata": {},
   "outputs": [],
   "source": [
    "# Scale appropriately\n",
    "X_train_scaled = ss.fit_transform(X_train)\n",
    "X_test_scaled = ss.transform(X_test)"
   ]
  },
  {
   "cell_type": "code",
   "execution_count": 247,
   "metadata": {},
   "outputs": [
    {
     "data": {
      "text/plain": [
       "LinearRegression()"
      ]
     },
     "execution_count": 247,
     "metadata": {},
     "output_type": "execute_result"
    }
   ],
   "source": [
    "# instantiate appropriate model and fit to appropriate part of data.\n",
    "from sklearn.linear_model import LinearRegression\n",
    "lr2 = LinearRegression()\n",
    "lr2.fit(X_train_scaled, y_train)"
   ]
  },
  {
   "cell_type": "code",
   "execution_count": 248,
   "metadata": {},
   "outputs": [],
   "source": [
    "# Create a set of predictions\n",
    "\n",
    "y_hat_train = lr2.predict(X_train_scaled)\n",
    "y_hat_test = lr2.predict(X_test_scaled)\n"
   ]
  },
  {
   "cell_type": "code",
   "execution_count": 249,
   "metadata": {},
   "outputs": [
    {
     "data": {
      "text/plain": [
       "22.098694827097987"
      ]
     },
     "execution_count": 249,
     "metadata": {},
     "output_type": "execute_result"
    }
   ],
   "source": [
    "# Create and analyze appropriate metrics\n",
    "from sklearn.metrics import mean_squared_error\n",
    "mean_squared_error(y_test, y_hat_test)"
   ]
  },
  {
   "cell_type": "code",
   "execution_count": null,
   "metadata": {},
   "outputs": [],
   "source": []
  }
 ],
 "metadata": {
  "kernelspec": {
   "display_name": "Python 3",
   "language": "python",
   "name": "python3"
  },
  "language_info": {
   "codemirror_mode": {
    "name": "ipython",
    "version": 3
   },
   "file_extension": ".py",
   "mimetype": "text/x-python",
   "name": "python",
   "nbconvert_exporter": "python",
   "pygments_lexer": "ipython3",
   "version": "3.8.5"
  }
 },
 "nbformat": 4,
 "nbformat_minor": 4
}
